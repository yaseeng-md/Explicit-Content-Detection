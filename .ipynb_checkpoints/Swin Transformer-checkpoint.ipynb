{
 "cells": [
  {
   "cell_type": "code",
   "execution_count": 50,
   "id": "f51f76f0-f75d-405f-b551-ede4a33830e9",
   "metadata": {},
   "outputs": [],
   "source": [
    "import torch \n",
    "import os\n",
    "import numpy as np \n",
    "from torchvision.models.swin_transformer import SwinTransformer\n",
    "from Dataset_Loader import ImageDataset\n",
    "from torch import Tensor\n",
    "from torch import nn,optim\n",
    "from torch.utils.data import DataLoader,TensorDataset\n",
    "import torch\n",
    "import torchsummary\n",
    "from torch.utils.data import DataLoader\n",
    "from tqdm import tqdm\n",
    "from PIL import ImageFile\n",
    "ImageFile.LOAD_TRUNCATED_IMAGES = True\n",
    "\n",
    "\n",
    "if torch.cuda.is_available():\n",
    "    device = \"cuda\"\n",
    "else:\n",
    "    device = \"cpu\""
   ]
  },
  {
   "cell_type": "code",
   "execution_count": 25,
   "id": "84243c09-f6f9-4923-bd0d-43470d112959",
   "metadata": {},
   "outputs": [],
   "source": [
    "\n",
    "LEARNING_RATE = 1e-4\n",
    "TRAIN_PATH = \"Dataset/train/\"\n",
    "VAL_PATH = \"Dataset/val1/\""
   ]
  },
  {
   "cell_type": "code",
   "execution_count": 76,
   "id": "a7bc3167-1687-4206-bfdd-a932d2e3468d",
   "metadata": {},
   "outputs": [],
   "source": [
    "PATCH_SIZE =  [4, 4] \n",
    "EMBED_DIM =  96 \n",
    "DEPTH =  [2, 2, 6, 2]  \n",
    "NUM_HEADS = [3, 6, 12, 24]  \n",
    "WINDOW_SIZE = [7, 7]  \n",
    "MLP_RATIO =  4.0  \n",
    "DROPOUT =  0.1  \n",
    "ATTENSION_DROPOUT =  0.1 \n",
    "STOCASTIC_DEPTH_PROB =  0.2 \n",
    "NUM_CLASSES = 2  \n",
    "BLOCK = None  \n",
    "NORM_LAYER =  None  \n",
    "DOWNSAMPLING_LAYER = \"PatchMerging\" \n"
   ]
  },
  {
   "cell_type": "code",
   "execution_count": 33,
   "id": "0f4f0d2b-1e89-45dc-a243-0cf3c62100d0",
   "metadata": {},
   "outputs": [],
   "source": [
    "train_image_dataset = ImageDataset(path=TRAIN_PATH,img_size=IMG_SIZE,batch_size=BATCH_SIZE,shuffle=SHUFFLE)\n",
    "val_image_dataset =  ImageDataset(path=VAL_PATH,img_size=IMG_SIZE,batch_size=BATCH_SIZE,shuffle=SHUFFLE)"
   ]
  },
  {
   "cell_type": "code",
   "execution_count": 35,
   "id": "d5250b7d-f5e3-4a3c-8bd3-78eae8a84d61",
   "metadata": {},
   "outputs": [],
   "source": [
    "train_loader = train_image_dataset.get_dataloader()\n",
    "val_loader = val_image_dataset.get_dataloader()"
   ]
  },
  {
   "cell_type": "code",
   "execution_count": 41,
   "id": "a6b9e043-b6b9-4901-b9e0-b80c5a77a26d",
   "metadata": {},
   "outputs": [],
   "source": [
    "swin_transfromer_model = SwinTransformer(patch_size=PATCH_SIZE,\n",
    "                                         embed_dim=EMBED_DIM, \n",
    "                                         depths=DEPTH,\n",
    "                                         num_heads=NUM_HEADS,\n",
    "                                         window_size=WINDOW_SIZE,\n",
    "                                         mlp_ratio = MLP_RATIO,\n",
    "                                         dropout = DROPOUT,\n",
    "                                         attention_dropout = ATTENSION_DROPOUT,\n",
    "                                         stochastic_depth_prob = STOCASTIC_DEPTH_PROB,\n",
    "                                         num_classes = NUM_CLASSES,\n",
    "                                         block = BLOCK,\n",
    "                                         norm_layer = NORM_LAYER,\n",
    "                                        )\n"
   ]
  },
  {
   "cell_type": "code",
   "execution_count": 62,
   "id": "7d839959-ee05-4163-bea0-5c84aa025769",
   "metadata": {},
   "outputs": [
    {
     "name": "stdout",
     "output_type": "stream",
     "text": [
      "===========================================================================\n",
      "Layer (type:depth-idx)                             Param #\n",
      "===========================================================================\n",
      "├─Sequential: 1-1                                  --\n",
      "|    └─Sequential: 2-1                             --\n",
      "|    |    └─Conv2d: 3-1                            4,704\n",
      "|    |    └─Permute: 3-2                           --\n",
      "|    |    └─LayerNorm: 3-3                         192\n",
      "|    └─Sequential: 2-2                             --\n",
      "|    |    └─SwinTransformerBlock: 3-4              112,347\n",
      "|    |    └─SwinTransformerBlock: 3-5              112,347\n",
      "|    └─PatchMerging: 2-3                           --\n",
      "|    |    └─Linear: 3-6                            73,728\n",
      "|    |    └─LayerNorm: 3-7                         768\n",
      "|    └─Sequential: 2-4                             --\n",
      "|    |    └─SwinTransformerBlock: 3-8              445,878\n",
      "|    |    └─SwinTransformerBlock: 3-9              445,878\n",
      "|    └─PatchMerging: 2-5                           --\n",
      "|    |    └─Linear: 3-10                           294,912\n",
      "|    |    └─LayerNorm: 3-11                        1,536\n",
      "|    └─Sequential: 2-6                             --\n",
      "|    |    └─SwinTransformerBlock: 3-12             1,776,492\n",
      "|    |    └─SwinTransformerBlock: 3-13             1,776,492\n",
      "|    |    └─SwinTransformerBlock: 3-14             1,776,492\n",
      "|    |    └─SwinTransformerBlock: 3-15             1,776,492\n",
      "|    |    └─SwinTransformerBlock: 3-16             1,776,492\n",
      "|    |    └─SwinTransformerBlock: 3-17             1,776,492\n",
      "|    └─PatchMerging: 2-7                           --\n",
      "|    |    └─Linear: 3-18                           1,179,648\n",
      "|    |    └─LayerNorm: 3-19                        3,072\n",
      "|    └─Sequential: 2-8                             --\n",
      "|    |    └─SwinTransformerBlock: 3-20             7,091,928\n",
      "|    |    └─SwinTransformerBlock: 3-21             7,091,928\n",
      "├─LayerNorm: 1-2                                   1,536\n",
      "├─Permute: 1-3                                     --\n",
      "├─AdaptiveAvgPool2d: 1-4                           --\n",
      "├─Flatten: 1-5                                     --\n",
      "├─Linear: 1-6                                      1,538\n",
      "===========================================================================\n",
      "Total params: 27,520,892\n",
      "Trainable params: 27,520,892\n",
      "Non-trainable params: 0\n",
      "===========================================================================\n"
     ]
    },
    {
     "data": {
      "text/plain": [
       "===========================================================================\n",
       "Layer (type:depth-idx)                             Param #\n",
       "===========================================================================\n",
       "├─Sequential: 1-1                                  --\n",
       "|    └─Sequential: 2-1                             --\n",
       "|    |    └─Conv2d: 3-1                            4,704\n",
       "|    |    └─Permute: 3-2                           --\n",
       "|    |    └─LayerNorm: 3-3                         192\n",
       "|    └─Sequential: 2-2                             --\n",
       "|    |    └─SwinTransformerBlock: 3-4              112,347\n",
       "|    |    └─SwinTransformerBlock: 3-5              112,347\n",
       "|    └─PatchMerging: 2-3                           --\n",
       "|    |    └─Linear: 3-6                            73,728\n",
       "|    |    └─LayerNorm: 3-7                         768\n",
       "|    └─Sequential: 2-4                             --\n",
       "|    |    └─SwinTransformerBlock: 3-8              445,878\n",
       "|    |    └─SwinTransformerBlock: 3-9              445,878\n",
       "|    └─PatchMerging: 2-5                           --\n",
       "|    |    └─Linear: 3-10                           294,912\n",
       "|    |    └─LayerNorm: 3-11                        1,536\n",
       "|    └─Sequential: 2-6                             --\n",
       "|    |    └─SwinTransformerBlock: 3-12             1,776,492\n",
       "|    |    └─SwinTransformerBlock: 3-13             1,776,492\n",
       "|    |    └─SwinTransformerBlock: 3-14             1,776,492\n",
       "|    |    └─SwinTransformerBlock: 3-15             1,776,492\n",
       "|    |    └─SwinTransformerBlock: 3-16             1,776,492\n",
       "|    |    └─SwinTransformerBlock: 3-17             1,776,492\n",
       "|    └─PatchMerging: 2-7                           --\n",
       "|    |    └─Linear: 3-18                           1,179,648\n",
       "|    |    └─LayerNorm: 3-19                        3,072\n",
       "|    └─Sequential: 2-8                             --\n",
       "|    |    └─SwinTransformerBlock: 3-20             7,091,928\n",
       "|    |    └─SwinTransformerBlock: 3-21             7,091,928\n",
       "├─LayerNorm: 1-2                                   1,536\n",
       "├─Permute: 1-3                                     --\n",
       "├─AdaptiveAvgPool2d: 1-4                           --\n",
       "├─Flatten: 1-5                                     --\n",
       "├─Linear: 1-6                                      1,538\n",
       "===========================================================================\n",
       "Total params: 27,520,892\n",
       "Trainable params: 27,520,892\n",
       "Non-trainable params: 0\n",
       "==========================================================================="
      ]
     },
     "execution_count": 62,
     "metadata": {},
     "output_type": "execute_result"
    }
   ],
   "source": [
    "swin_transfromer_model.to(device)\n",
    "torchsummary.summary(swin_transfromer_model)"
   ]
  },
  {
   "cell_type": "code",
   "execution_count": 56,
   "id": "4155e1f7-0202-448e-8418-223ea409c8f6",
   "metadata": {},
   "outputs": [],
   "source": [
    "LOSS_FUNCTION = torch.nn.CrossEntropyLoss()\n",
    "OPTIMIZER = torch.optim.Adam(swin_transfromer_model.parameters(), lr = LEARNING_RATE)"
   ]
  },
  {
   "cell_type": "code",
   "execution_count": 64,
   "id": "d4559b55-8677-42cb-b502-60f0019196da",
   "metadata": {},
   "outputs": [
    {
     "name": "stderr",
     "output_type": "stream",
     "text": [
      "Epoch 1/50 [Train]: 100%|████████████████████████████████████████████████████████████| 196/196 [02:24<00:00,  1.36it/s]\n",
      "Epoch 1/50 [Val]: 100%|██████████████████████████████████████████████████████████████| 195/195 [01:27<00:00,  2.22it/s]\n"
     ]
    },
    {
     "name": "stdout",
     "output_type": "stream",
     "text": [
      "Epoch 1/50, Train Loss: 0.5582, Train Acc: 0.7372, Val Loss: 0.5529, Val Acc: 0.7488\n"
     ]
    },
    {
     "name": "stderr",
     "output_type": "stream",
     "text": [
      "Epoch 2/50 [Train]: 100%|████████████████████████████████████████████████████████████| 196/196 [02:25<00:00,  1.35it/s]\n",
      "Epoch 2/50 [Val]: 100%|██████████████████████████████████████████████████████████████| 195/195 [01:34<00:00,  2.06it/s]\n"
     ]
    },
    {
     "name": "stdout",
     "output_type": "stream",
     "text": [
      "Epoch 2/50, Train Loss: 0.4625, Train Acc: 0.7945, Val Loss: 0.4803, Val Acc: 0.8045\n"
     ]
    },
    {
     "name": "stderr",
     "output_type": "stream",
     "text": [
      "Epoch 3/50 [Train]: 100%|████████████████████████████████████████████████████████████| 196/196 [02:27<00:00,  1.33it/s]\n",
      "Epoch 3/50 [Val]: 100%|██████████████████████████████████████████████████████████████| 195/195 [01:34<00:00,  2.06it/s]\n"
     ]
    },
    {
     "name": "stdout",
     "output_type": "stream",
     "text": [
      "Epoch 3/50, Train Loss: 0.4259, Train Acc: 0.8185, Val Loss: 0.4399, Val Acc: 0.8052\n"
     ]
    },
    {
     "name": "stderr",
     "output_type": "stream",
     "text": [
      "Epoch 4/50 [Train]: 100%|████████████████████████████████████████████████████████████| 196/196 [02:13<00:00,  1.47it/s]\n",
      "Epoch 4/50 [Val]: 100%|██████████████████████████████████████████████████████████████| 195/195 [01:00<00:00,  3.20it/s]\n"
     ]
    },
    {
     "name": "stdout",
     "output_type": "stream",
     "text": [
      "Epoch 4/50, Train Loss: 0.3928, Train Acc: 0.8322, Val Loss: 0.4198, Val Acc: 0.8164\n"
     ]
    },
    {
     "name": "stderr",
     "output_type": "stream",
     "text": [
      "Epoch 5/50 [Train]: 100%|████████████████████████████████████████████████████████████| 196/196 [01:52<00:00,  1.75it/s]\n",
      "Epoch 5/50 [Val]: 100%|██████████████████████████████████████████████████████████████| 195/195 [01:01<00:00,  3.17it/s]\n"
     ]
    },
    {
     "name": "stdout",
     "output_type": "stream",
     "text": [
      "Epoch 5/50, Train Loss: 0.3592, Train Acc: 0.8470, Val Loss: 0.4154, Val Acc: 0.8204\n"
     ]
    },
    {
     "name": "stderr",
     "output_type": "stream",
     "text": [
      "Epoch 6/50 [Train]: 100%|████████████████████████████████████████████████████████████| 196/196 [01:46<00:00,  1.84it/s]\n",
      "Epoch 6/50 [Val]: 100%|██████████████████████████████████████████████████████████████| 195/195 [00:58<00:00,  3.35it/s]\n"
     ]
    },
    {
     "name": "stdout",
     "output_type": "stream",
     "text": [
      "Epoch 6/50, Train Loss: 0.3465, Train Acc: 0.8580, Val Loss: 0.3930, Val Acc: 0.8331\n"
     ]
    },
    {
     "name": "stderr",
     "output_type": "stream",
     "text": [
      "Epoch 7/50 [Train]: 100%|████████████████████████████████████████████████████████████| 196/196 [01:46<00:00,  1.84it/s]\n",
      "Epoch 7/50 [Val]: 100%|██████████████████████████████████████████████████████████████| 195/195 [00:58<00:00,  3.32it/s]\n"
     ]
    },
    {
     "name": "stdout",
     "output_type": "stream",
     "text": [
      "Epoch 7/50, Train Loss: 0.3252, Train Acc: 0.8668, Val Loss: 0.3980, Val Acc: 0.8278\n"
     ]
    },
    {
     "name": "stderr",
     "output_type": "stream",
     "text": [
      "Epoch 8/50 [Train]: 100%|████████████████████████████████████████████████████████████| 196/196 [01:47<00:00,  1.82it/s]\n",
      "Epoch 8/50 [Val]: 100%|██████████████████████████████████████████████████████████████| 195/195 [00:57<00:00,  3.39it/s]\n"
     ]
    },
    {
     "name": "stdout",
     "output_type": "stream",
     "text": [
      "Epoch 8/50, Train Loss: 0.2966, Train Acc: 0.8732, Val Loss: 0.3967, Val Acc: 0.8336\n"
     ]
    },
    {
     "name": "stderr",
     "output_type": "stream",
     "text": [
      "Epoch 9/50 [Train]: 100%|████████████████████████████████████████████████████████████| 196/196 [01:46<00:00,  1.84it/s]\n",
      "Epoch 9/50 [Val]: 100%|██████████████████████████████████████████████████████████████| 195/195 [00:57<00:00,  3.42it/s]\n"
     ]
    },
    {
     "name": "stdout",
     "output_type": "stream",
     "text": [
      "Epoch 9/50, Train Loss: 0.2964, Train Acc: 0.8775, Val Loss: 0.4351, Val Acc: 0.8021\n"
     ]
    },
    {
     "name": "stderr",
     "output_type": "stream",
     "text": [
      "Epoch 10/50 [Train]: 100%|███████████████████████████████████████████████████████████| 196/196 [01:46<00:00,  1.85it/s]\n",
      "Epoch 10/50 [Val]: 100%|█████████████████████████████████████████████████████████████| 195/195 [00:57<00:00,  3.41it/s]\n"
     ]
    },
    {
     "name": "stdout",
     "output_type": "stream",
     "text": [
      "Epoch 10/50, Train Loss: 0.2614, Train Acc: 0.8932, Val Loss: 0.3443, Val Acc: 0.8553\n"
     ]
    },
    {
     "name": "stderr",
     "output_type": "stream",
     "text": [
      "Epoch 11/50 [Train]: 100%|███████████████████████████████████████████████████████████| 196/196 [01:45<00:00,  1.85it/s]\n",
      "Epoch 11/50 [Val]: 100%|█████████████████████████████████████████████████████████████| 195/195 [00:57<00:00,  3.39it/s]\n"
     ]
    },
    {
     "name": "stdout",
     "output_type": "stream",
     "text": [
      "Epoch 11/50, Train Loss: 0.2440, Train Acc: 0.9005, Val Loss: 0.3737, Val Acc: 0.8446\n"
     ]
    },
    {
     "name": "stderr",
     "output_type": "stream",
     "text": [
      "Epoch 12/50 [Train]: 100%|███████████████████████████████████████████████████████████| 196/196 [01:45<00:00,  1.85it/s]\n",
      "Epoch 12/50 [Val]: 100%|█████████████████████████████████████████████████████████████| 195/195 [00:57<00:00,  3.42it/s]\n"
     ]
    },
    {
     "name": "stdout",
     "output_type": "stream",
     "text": [
      "Epoch 12/50, Train Loss: 0.2387, Train Acc: 0.9028, Val Loss: 0.3894, Val Acc: 0.8475\n"
     ]
    },
    {
     "name": "stderr",
     "output_type": "stream",
     "text": [
      "Epoch 13/50 [Train]: 100%|███████████████████████████████████████████████████████████| 196/196 [01:46<00:00,  1.85it/s]\n",
      "Epoch 13/50 [Val]: 100%|█████████████████████████████████████████████████████████████| 195/195 [00:57<00:00,  3.42it/s]\n"
     ]
    },
    {
     "name": "stdout",
     "output_type": "stream",
     "text": [
      "Epoch 13/50, Train Loss: 0.2108, Train Acc: 0.9119, Val Loss: 0.3940, Val Acc: 0.8500\n"
     ]
    },
    {
     "name": "stderr",
     "output_type": "stream",
     "text": [
      "Epoch 14/50 [Train]: 100%|███████████████████████████████████████████████████████████| 196/196 [01:46<00:00,  1.84it/s]\n",
      "Epoch 14/50 [Val]: 100%|█████████████████████████████████████████████████████████████| 195/195 [00:57<00:00,  3.38it/s]\n"
     ]
    },
    {
     "name": "stdout",
     "output_type": "stream",
     "text": [
      "Epoch 14/50, Train Loss: 0.2093, Train Acc: 0.9116, Val Loss: 0.3790, Val Acc: 0.8478\n"
     ]
    },
    {
     "name": "stderr",
     "output_type": "stream",
     "text": [
      "Epoch 15/50 [Train]: 100%|███████████████████████████████████████████████████████████| 196/196 [01:45<00:00,  1.85it/s]\n",
      "Epoch 15/50 [Val]: 100%|█████████████████████████████████████████████████████████████| 195/195 [00:56<00:00,  3.45it/s]\n"
     ]
    },
    {
     "name": "stdout",
     "output_type": "stream",
     "text": [
      "Epoch 15/50, Train Loss: 0.1951, Train Acc: 0.9207, Val Loss: 0.4272, Val Acc: 0.8428\n"
     ]
    },
    {
     "name": "stderr",
     "output_type": "stream",
     "text": [
      "Epoch 16/50 [Train]: 100%|███████████████████████████████████████████████████████████| 196/196 [01:46<00:00,  1.84it/s]\n",
      "Epoch 16/50 [Val]: 100%|█████████████████████████████████████████████████████████████| 195/195 [00:56<00:00,  3.42it/s]\n"
     ]
    },
    {
     "name": "stdout",
     "output_type": "stream",
     "text": [
      "Epoch 16/50, Train Loss: 0.1804, Train Acc: 0.9292, Val Loss: 0.3756, Val Acc: 0.8579\n"
     ]
    },
    {
     "name": "stderr",
     "output_type": "stream",
     "text": [
      "Epoch 17/50 [Train]: 100%|███████████████████████████████████████████████████████████| 196/196 [01:45<00:00,  1.85it/s]\n",
      "Epoch 17/50 [Val]: 100%|█████████████████████████████████████████████████████████████| 195/195 [00:57<00:00,  3.39it/s]\n"
     ]
    },
    {
     "name": "stdout",
     "output_type": "stream",
     "text": [
      "Epoch 17/50, Train Loss: 0.1811, Train Acc: 0.9306, Val Loss: 0.3944, Val Acc: 0.8405\n"
     ]
    },
    {
     "name": "stderr",
     "output_type": "stream",
     "text": [
      "Epoch 18/50 [Train]: 100%|███████████████████████████████████████████████████████████| 196/196 [01:45<00:00,  1.86it/s]\n",
      "Epoch 18/50 [Val]: 100%|█████████████████████████████████████████████████████████████| 195/195 [00:56<00:00,  3.42it/s]\n"
     ]
    },
    {
     "name": "stdout",
     "output_type": "stream",
     "text": [
      "Epoch 18/50, Train Loss: 0.1744, Train Acc: 0.9292, Val Loss: 0.4127, Val Acc: 0.8476\n"
     ]
    },
    {
     "name": "stderr",
     "output_type": "stream",
     "text": [
      "Epoch 19/50 [Train]: 100%|███████████████████████████████████████████████████████████| 196/196 [01:46<00:00,  1.85it/s]\n",
      "Epoch 19/50 [Val]: 100%|█████████████████████████████████████████████████████████████| 195/195 [00:57<00:00,  3.38it/s]\n"
     ]
    },
    {
     "name": "stdout",
     "output_type": "stream",
     "text": [
      "Epoch 19/50, Train Loss: 0.1532, Train Acc: 0.9426, Val Loss: 0.5248, Val Acc: 0.8016\n"
     ]
    },
    {
     "name": "stderr",
     "output_type": "stream",
     "text": [
      "Epoch 20/50 [Train]: 100%|███████████████████████████████████████████████████████████| 196/196 [01:45<00:00,  1.85it/s]\n",
      "Epoch 20/50 [Val]: 100%|█████████████████████████████████████████████████████████████| 195/195 [00:57<00:00,  3.39it/s]\n"
     ]
    },
    {
     "name": "stdout",
     "output_type": "stream",
     "text": [
      "Epoch 20/50, Train Loss: 0.1477, Train Acc: 0.9410, Val Loss: 0.4028, Val Acc: 0.8585\n"
     ]
    },
    {
     "name": "stderr",
     "output_type": "stream",
     "text": [
      "Epoch 21/50 [Train]: 100%|███████████████████████████████████████████████████████████| 196/196 [01:46<00:00,  1.85it/s]\n",
      "Epoch 21/50 [Val]: 100%|█████████████████████████████████████████████████████████████| 195/195 [00:57<00:00,  3.41it/s]\n"
     ]
    },
    {
     "name": "stdout",
     "output_type": "stream",
     "text": [
      "Epoch 21/50, Train Loss: 0.1356, Train Acc: 0.9453, Val Loss: 0.5139, Val Acc: 0.8185\n"
     ]
    },
    {
     "name": "stderr",
     "output_type": "stream",
     "text": [
      "Epoch 22/50 [Train]: 100%|███████████████████████████████████████████████████████████| 196/196 [01:46<00:00,  1.84it/s]\n",
      "Epoch 22/50 [Val]: 100%|█████████████████████████████████████████████████████████████| 195/195 [00:56<00:00,  3.43it/s]\n"
     ]
    },
    {
     "name": "stdout",
     "output_type": "stream",
     "text": [
      "Epoch 22/50, Train Loss: 0.1366, Train Acc: 0.9474, Val Loss: 0.4373, Val Acc: 0.8428\n"
     ]
    },
    {
     "name": "stderr",
     "output_type": "stream",
     "text": [
      "Epoch 23/50 [Train]: 100%|███████████████████████████████████████████████████████████| 196/196 [01:46<00:00,  1.85it/s]\n",
      "Epoch 23/50 [Val]: 100%|█████████████████████████████████████████████████████████████| 195/195 [00:57<00:00,  3.42it/s]\n"
     ]
    },
    {
     "name": "stdout",
     "output_type": "stream",
     "text": [
      "Epoch 23/50, Train Loss: 0.1348, Train Acc: 0.9474, Val Loss: 0.4255, Val Acc: 0.8624\n"
     ]
    },
    {
     "name": "stderr",
     "output_type": "stream",
     "text": [
      "Epoch 24/50 [Train]: 100%|███████████████████████████████████████████████████████████| 196/196 [01:45<00:00,  1.86it/s]\n",
      "Epoch 24/50 [Val]: 100%|█████████████████████████████████████████████████████████████| 195/195 [00:57<00:00,  3.41it/s]\n"
     ]
    },
    {
     "name": "stdout",
     "output_type": "stream",
     "text": [
      "Epoch 24/50, Train Loss: 0.1109, Train Acc: 0.9571, Val Loss: 0.4354, Val Acc: 0.8618\n"
     ]
    },
    {
     "name": "stderr",
     "output_type": "stream",
     "text": [
      "Epoch 25/50 [Train]: 100%|███████████████████████████████████████████████████████████| 196/196 [01:45<00:00,  1.85it/s]\n",
      "Epoch 25/50 [Val]: 100%|█████████████████████████████████████████████████████████████| 195/195 [00:57<00:00,  3.42it/s]\n"
     ]
    },
    {
     "name": "stdout",
     "output_type": "stream",
     "text": [
      "Epoch 25/50, Train Loss: 0.1078, Train Acc: 0.9578, Val Loss: 0.4864, Val Acc: 0.8534\n"
     ]
    },
    {
     "name": "stderr",
     "output_type": "stream",
     "text": [
      "Epoch 26/50 [Train]: 100%|███████████████████████████████████████████████████████████| 196/196 [01:46<00:00,  1.85it/s]\n",
      "Epoch 26/50 [Val]: 100%|█████████████████████████████████████████████████████████████| 195/195 [00:57<00:00,  3.38it/s]\n"
     ]
    },
    {
     "name": "stdout",
     "output_type": "stream",
     "text": [
      "Epoch 26/50, Train Loss: 0.1127, Train Acc: 0.9586, Val Loss: 0.4385, Val Acc: 0.8595\n"
     ]
    },
    {
     "name": "stderr",
     "output_type": "stream",
     "text": [
      "Epoch 27/50 [Train]: 100%|███████████████████████████████████████████████████████████| 196/196 [01:45<00:00,  1.85it/s]\n",
      "Epoch 27/50 [Val]: 100%|█████████████████████████████████████████████████████████████| 195/195 [00:56<00:00,  3.43it/s]\n"
     ]
    },
    {
     "name": "stdout",
     "output_type": "stream",
     "text": [
      "Epoch 27/50, Train Loss: 0.0955, Train Acc: 0.9623, Val Loss: 0.4524, Val Acc: 0.8581\n"
     ]
    },
    {
     "name": "stderr",
     "output_type": "stream",
     "text": [
      "Epoch 28/50 [Train]: 100%|███████████████████████████████████████████████████████████| 196/196 [01:46<00:00,  1.84it/s]\n",
      "Epoch 28/50 [Val]: 100%|█████████████████████████████████████████████████████████████| 195/195 [00:56<00:00,  3.43it/s]\n"
     ]
    },
    {
     "name": "stdout",
     "output_type": "stream",
     "text": [
      "Epoch 28/50, Train Loss: 0.1010, Train Acc: 0.9624, Val Loss: 0.4412, Val Acc: 0.8412\n"
     ]
    },
    {
     "name": "stderr",
     "output_type": "stream",
     "text": [
      "Epoch 29/50 [Train]: 100%|███████████████████████████████████████████████████████████| 196/196 [01:45<00:00,  1.85it/s]\n",
      "Epoch 29/50 [Val]: 100%|█████████████████████████████████████████████████████████████| 195/195 [00:57<00:00,  3.38it/s]\n"
     ]
    },
    {
     "name": "stdout",
     "output_type": "stream",
     "text": [
      "Epoch 29/50, Train Loss: 0.0965, Train Acc: 0.9626, Val Loss: 0.4977, Val Acc: 0.8574\n"
     ]
    },
    {
     "name": "stderr",
     "output_type": "stream",
     "text": [
      "Epoch 30/50 [Train]: 100%|███████████████████████████████████████████████████████████| 196/196 [01:46<00:00,  1.84it/s]\n",
      "Epoch 30/50 [Val]: 100%|█████████████████████████████████████████████████████████████| 195/195 [00:57<00:00,  3.40it/s]\n"
     ]
    },
    {
     "name": "stdout",
     "output_type": "stream",
     "text": [
      "Epoch 30/50, Train Loss: 0.0962, Train Acc: 0.9629, Val Loss: 0.4844, Val Acc: 0.8381\n"
     ]
    },
    {
     "name": "stderr",
     "output_type": "stream",
     "text": [
      "Epoch 31/50 [Train]: 100%|███████████████████████████████████████████████████████████| 196/196 [01:46<00:00,  1.84it/s]\n",
      "Epoch 31/50 [Val]: 100%|█████████████████████████████████████████████████████████████| 195/195 [00:56<00:00,  3.45it/s]\n"
     ]
    },
    {
     "name": "stdout",
     "output_type": "stream",
     "text": [
      "Epoch 31/50, Train Loss: 0.0851, Train Acc: 0.9683, Val Loss: 0.4614, Val Acc: 0.8627\n"
     ]
    },
    {
     "name": "stderr",
     "output_type": "stream",
     "text": [
      "Epoch 32/50 [Train]: 100%|███████████████████████████████████████████████████████████| 196/196 [01:45<00:00,  1.86it/s]\n",
      "Epoch 32/50 [Val]: 100%|█████████████████████████████████████████████████████████████| 195/195 [00:57<00:00,  3.40it/s]\n"
     ]
    },
    {
     "name": "stdout",
     "output_type": "stream",
     "text": [
      "Epoch 32/50, Train Loss: 0.0786, Train Acc: 0.9703, Val Loss: 0.4382, Val Acc: 0.8624\n"
     ]
    },
    {
     "name": "stderr",
     "output_type": "stream",
     "text": [
      "Epoch 33/50 [Train]: 100%|███████████████████████████████████████████████████████████| 196/196 [01:46<00:00,  1.85it/s]\n",
      "Epoch 33/50 [Val]: 100%|█████████████████████████████████████████████████████████████| 195/195 [00:57<00:00,  3.37it/s]\n"
     ]
    },
    {
     "name": "stdout",
     "output_type": "stream",
     "text": [
      "Epoch 33/50, Train Loss: 0.0685, Train Acc: 0.9744, Val Loss: 0.5652, Val Acc: 0.8545\n"
     ]
    },
    {
     "name": "stderr",
     "output_type": "stream",
     "text": [
      "Epoch 34/50 [Train]: 100%|███████████████████████████████████████████████████████████| 196/196 [01:45<00:00,  1.86it/s]\n",
      "Epoch 34/50 [Val]: 100%|█████████████████████████████████████████████████████████████| 195/195 [00:56<00:00,  3.44it/s]\n"
     ]
    },
    {
     "name": "stdout",
     "output_type": "stream",
     "text": [
      "Epoch 34/50, Train Loss: 0.0743, Train Acc: 0.9731, Val Loss: 0.5581, Val Acc: 0.8515\n"
     ]
    },
    {
     "name": "stderr",
     "output_type": "stream",
     "text": [
      "Epoch 35/50 [Train]: 100%|███████████████████████████████████████████████████████████| 196/196 [01:45<00:00,  1.85it/s]\n",
      "Epoch 35/50 [Val]: 100%|█████████████████████████████████████████████████████████████| 195/195 [00:57<00:00,  3.40it/s]\n"
     ]
    },
    {
     "name": "stdout",
     "output_type": "stream",
     "text": [
      "Epoch 35/50, Train Loss: 0.0626, Train Acc: 0.9770, Val Loss: 0.6147, Val Acc: 0.8455\n"
     ]
    },
    {
     "name": "stderr",
     "output_type": "stream",
     "text": [
      "Epoch 36/50 [Train]: 100%|███████████████████████████████████████████████████████████| 196/196 [01:45<00:00,  1.85it/s]\n",
      "Epoch 36/50 [Val]: 100%|█████████████████████████████████████████████████████████████| 195/195 [00:56<00:00,  3.44it/s]\n"
     ]
    },
    {
     "name": "stdout",
     "output_type": "stream",
     "text": [
      "Epoch 36/50, Train Loss: 0.0648, Train Acc: 0.9757, Val Loss: 0.5528, Val Acc: 0.8598\n"
     ]
    },
    {
     "name": "stderr",
     "output_type": "stream",
     "text": [
      "Epoch 37/50 [Train]: 100%|███████████████████████████████████████████████████████████| 196/196 [01:46<00:00,  1.85it/s]\n",
      "Epoch 37/50 [Val]: 100%|█████████████████████████████████████████████████████████████| 195/195 [00:57<00:00,  3.41it/s]\n"
     ]
    },
    {
     "name": "stdout",
     "output_type": "stream",
     "text": [
      "Epoch 37/50, Train Loss: 0.0641, Train Acc: 0.9763, Val Loss: 0.5850, Val Acc: 0.8548\n"
     ]
    },
    {
     "name": "stderr",
     "output_type": "stream",
     "text": [
      "Epoch 38/50 [Train]: 100%|███████████████████████████████████████████████████████████| 196/196 [01:46<00:00,  1.85it/s]\n",
      "Epoch 38/50 [Val]: 100%|█████████████████████████████████████████████████████████████| 195/195 [00:57<00:00,  3.41it/s]\n"
     ]
    },
    {
     "name": "stdout",
     "output_type": "stream",
     "text": [
      "Epoch 38/50, Train Loss: 0.0656, Train Acc: 0.9746, Val Loss: 0.5530, Val Acc: 0.8690\n"
     ]
    },
    {
     "name": "stderr",
     "output_type": "stream",
     "text": [
      "Epoch 39/50 [Train]: 100%|███████████████████████████████████████████████████████████| 196/196 [01:45<00:00,  1.85it/s]\n",
      "Epoch 39/50 [Val]: 100%|█████████████████████████████████████████████████████████████| 195/195 [00:57<00:00,  3.40it/s]\n"
     ]
    },
    {
     "name": "stdout",
     "output_type": "stream",
     "text": [
      "Epoch 39/50, Train Loss: 0.0534, Train Acc: 0.9824, Val Loss: 0.5423, Val Acc: 0.8603\n"
     ]
    },
    {
     "name": "stderr",
     "output_type": "stream",
     "text": [
      "Epoch 40/50 [Train]: 100%|███████████████████████████████████████████████████████████| 196/196 [01:45<00:00,  1.85it/s]\n",
      "Epoch 40/50 [Val]: 100%|█████████████████████████████████████████████████████████████| 195/195 [00:56<00:00,  3.44it/s]\n"
     ]
    },
    {
     "name": "stdout",
     "output_type": "stream",
     "text": [
      "Epoch 40/50, Train Loss: 0.0646, Train Acc: 0.9765, Val Loss: 0.5904, Val Acc: 0.8520\n"
     ]
    },
    {
     "name": "stderr",
     "output_type": "stream",
     "text": [
      "Epoch 41/50 [Train]: 100%|███████████████████████████████████████████████████████████| 196/196 [01:45<00:00,  1.86it/s]\n",
      "Epoch 41/50 [Val]: 100%|█████████████████████████████████████████████████████████████| 195/195 [00:57<00:00,  3.39it/s]\n"
     ]
    },
    {
     "name": "stdout",
     "output_type": "stream",
     "text": [
      "Epoch 41/50, Train Loss: 0.0735, Train Acc: 0.9723, Val Loss: 0.5198, Val Acc: 0.8447\n"
     ]
    },
    {
     "name": "stderr",
     "output_type": "stream",
     "text": [
      "Epoch 42/50 [Train]: 100%|███████████████████████████████████████████████████████████| 196/196 [01:46<00:00,  1.85it/s]\n",
      "Epoch 42/50 [Val]: 100%|█████████████████████████████████████████████████████████████| 195/195 [00:57<00:00,  3.41it/s]\n"
     ]
    },
    {
     "name": "stdout",
     "output_type": "stream",
     "text": [
      "Epoch 42/50, Train Loss: 0.0473, Train Acc: 0.9811, Val Loss: 0.6286, Val Acc: 0.8449\n"
     ]
    },
    {
     "name": "stderr",
     "output_type": "stream",
     "text": [
      "Epoch 43/50 [Train]: 100%|███████████████████████████████████████████████████████████| 196/196 [01:47<00:00,  1.82it/s]\n",
      "Epoch 43/50 [Val]: 100%|█████████████████████████████████████████████████████████████| 195/195 [00:58<00:00,  3.35it/s]\n"
     ]
    },
    {
     "name": "stdout",
     "output_type": "stream",
     "text": [
      "Epoch 43/50, Train Loss: 0.0512, Train Acc: 0.9818, Val Loss: 0.6606, Val Acc: 0.8388\n"
     ]
    },
    {
     "name": "stderr",
     "output_type": "stream",
     "text": [
      "Epoch 44/50 [Train]: 100%|███████████████████████████████████████████████████████████| 196/196 [01:54<00:00,  1.71it/s]\n",
      "Epoch 44/50 [Val]: 100%|█████████████████████████████████████████████████████████████| 195/195 [01:02<00:00,  3.14it/s]\n"
     ]
    },
    {
     "name": "stdout",
     "output_type": "stream",
     "text": [
      "Epoch 44/50, Train Loss: 0.0616, Train Acc: 0.9754, Val Loss: 0.6287, Val Acc: 0.8597\n"
     ]
    },
    {
     "name": "stderr",
     "output_type": "stream",
     "text": [
      "Epoch 45/50 [Train]: 100%|███████████████████████████████████████████████████████████| 196/196 [01:50<00:00,  1.78it/s]\n",
      "Epoch 45/50 [Val]: 100%|█████████████████████████████████████████████████████████████| 195/195 [00:57<00:00,  3.40it/s]\n"
     ]
    },
    {
     "name": "stdout",
     "output_type": "stream",
     "text": [
      "Epoch 45/50, Train Loss: 0.0607, Train Acc: 0.9755, Val Loss: 0.5731, Val Acc: 0.8548\n"
     ]
    },
    {
     "name": "stderr",
     "output_type": "stream",
     "text": [
      "Epoch 46/50 [Train]: 100%|███████████████████████████████████████████████████████████| 196/196 [01:49<00:00,  1.79it/s]\n",
      "Epoch 46/50 [Val]: 100%|█████████████████████████████████████████████████████████████| 195/195 [01:01<00:00,  3.15it/s]\n"
     ]
    },
    {
     "name": "stdout",
     "output_type": "stream",
     "text": [
      "Epoch 46/50, Train Loss: 0.0523, Train Acc: 0.9794, Val Loss: 0.5902, Val Acc: 0.8521\n"
     ]
    },
    {
     "name": "stderr",
     "output_type": "stream",
     "text": [
      "Epoch 47/50 [Train]: 100%|███████████████████████████████████████████████████████████| 196/196 [01:47<00:00,  1.83it/s]\n",
      "Epoch 47/50 [Val]: 100%|█████████████████████████████████████████████████████████████| 195/195 [01:00<00:00,  3.24it/s]\n"
     ]
    },
    {
     "name": "stdout",
     "output_type": "stream",
     "text": [
      "Epoch 47/50, Train Loss: 0.0458, Train Acc: 0.9835, Val Loss: 0.5876, Val Acc: 0.8677\n"
     ]
    },
    {
     "name": "stderr",
     "output_type": "stream",
     "text": [
      "Epoch 48/50 [Train]: 100%|███████████████████████████████████████████████████████████| 196/196 [01:47<00:00,  1.82it/s]\n",
      "Epoch 48/50 [Val]: 100%|█████████████████████████████████████████████████████████████| 195/195 [00:59<00:00,  3.30it/s]\n"
     ]
    },
    {
     "name": "stdout",
     "output_type": "stream",
     "text": [
      "Epoch 48/50, Train Loss: 0.0478, Train Acc: 0.9824, Val Loss: 0.6232, Val Acc: 0.8388\n"
     ]
    },
    {
     "name": "stderr",
     "output_type": "stream",
     "text": [
      "Epoch 49/50 [Train]: 100%|███████████████████████████████████████████████████████████| 196/196 [01:46<00:00,  1.85it/s]\n",
      "Epoch 49/50 [Val]: 100%|█████████████████████████████████████████████████████████████| 195/195 [00:59<00:00,  3.29it/s]\n"
     ]
    },
    {
     "name": "stdout",
     "output_type": "stream",
     "text": [
      "Epoch 49/50, Train Loss: 0.0484, Train Acc: 0.9821, Val Loss: 0.5032, Val Acc: 0.8680\n"
     ]
    },
    {
     "name": "stderr",
     "output_type": "stream",
     "text": [
      "Epoch 50/50 [Train]: 100%|███████████████████████████████████████████████████████████| 196/196 [01:49<00:00,  1.79it/s]\n",
      "Epoch 50/50 [Val]: 100%|█████████████████████████████████████████████████████████████| 195/195 [01:00<00:00,  3.22it/s]"
     ]
    },
    {
     "name": "stdout",
     "output_type": "stream",
     "text": [
      "Epoch 50/50, Train Loss: 0.0530, Train Acc: 0.9789, Val Loss: 0.6039, Val Acc: 0.8651\n"
     ]
    },
    {
     "name": "stderr",
     "output_type": "stream",
     "text": [
      "\n"
     ]
    }
   ],
   "source": [
    "history = {\"train_loss\": [], \"val_loss\": [], \"train_acc\": [], \"val_acc\": []}\n",
    "\n",
    "for epoch in range(EPOCHS):\n",
    "    # Training phase\n",
    "    swin_transfromer_model.train()\n",
    "    train_loss = 0.0\n",
    "    correct_train = 0\n",
    "    total_train = 0\n",
    "\n",
    "    for images, labels in tqdm(train_loader, desc=f\"Epoch {epoch+1}/{EPOCHS} [Train]\"):\n",
    "        images, labels = images.to(device), labels.to(device)\n",
    "\n",
    "        if images.shape[1] != 3:  # Expecting (batch, 3, height, width)\n",
    "            images = images.permute(0, 3, 1, 2)  # Convert NHWC → NCHW\n",
    "        \n",
    "        OPTIMIZER.zero_grad()  # Clear gradients\n",
    "        outputs = swin_transfromer_model(images)  # Forward pass\n",
    "\n",
    "        # Compute loss\n",
    "        loss = LOSS_FUNCTION(outputs, labels)\n",
    "        loss.backward()  # Backpropagation\n",
    "        OPTIMIZER.step()  # Update weights\n",
    "\n",
    "        # Update training metrics\n",
    "        train_loss += loss.item()\n",
    "        correct_train += (outputs.argmax(dim=1) == labels).sum().item()  # Remove labels.argmax(dim=1)\n",
    "        total_train += labels.size(0)\n",
    "\n",
    "    train_loss /= len(train_loader)\n",
    "    train_acc = correct_train / total_train\n",
    "    history[\"train_loss\"].append(train_loss)\n",
    "    history[\"train_acc\"].append(train_acc)\n",
    "\n",
    "    # --------------------> Validation phase <------------------------\n",
    "    swin_transfromer_model.eval()\n",
    "    val_loss = 0.0\n",
    "    correct_val = 0\n",
    "    total_val = 0\n",
    "\n",
    "    with torch.no_grad():\n",
    "        for images, labels in tqdm(val_loader, desc=f\"Epoch {epoch+1}/{EPOCHS} [Val]\"):\n",
    "            images, labels = images.to(device), labels.to(device)\n",
    "\n",
    "            # Ensure correct shape\n",
    "            if images.shape[1] != 3:\n",
    "                images = images.permute(0, 3, 1, 2)\n",
    "\n",
    "            outputs = swin_transfromer_model(images)\n",
    "\n",
    "            # Compute loss\n",
    "            loss = LOSS_FUNCTION(outputs, labels)\n",
    "            val_loss += loss.item()\n",
    "\n",
    "            # Update validation metrics\n",
    "            correct_val += (outputs.argmax(dim=1) == labels).sum().item()\n",
    "            total_val += labels.size(0)\n",
    "\n",
    "    val_loss /= len(val_loader)\n",
    "    val_acc = correct_val / total_val\n",
    "    history[\"val_loss\"].append(val_loss)\n",
    "    history[\"val_acc\"].append(val_acc)\n",
    "\n",
    "    # Print epoch summary\n",
    "    print(f\"Epoch {epoch+1}/{EPOCHS}, Train Loss: {train_loss:.4f}, Train Acc: {train_acc:.4f}, \"\n",
    "          f\"Val Loss: {val_loss:.4f}, Val Acc: {val_acc:.4f}\")\n"
   ]
  },
  {
   "cell_type": "code",
   "execution_count": 68,
   "id": "e269daf1-41bf-454b-9061-45ed1306bab6",
   "metadata": {},
   "outputs": [
    {
     "data": {
      "text/plain": [
       "(0.9835279066048297, 0.8689921234528211)"
      ]
     },
     "execution_count": 68,
     "metadata": {},
     "output_type": "execute_result"
    }
   ],
   "source": [
    "max(history[\"train_acc\"]),max(history[\"val_acc\"])"
   ]
  },
  {
   "cell_type": "code",
   "execution_count": 72,
   "id": "ce0afb11-38da-497c-b970-5edd13249c36",
   "metadata": {},
   "outputs": [],
   "source": [
    "import pandas as pd\n",
    "model_history = pd.DataFrame(history)\n",
    "model_history.to_csv(\"History/SwinTransformers.csv\")"
   ]
  },
  {
   "cell_type": "code",
   "execution_count": 74,
   "id": "c99af785-8096-4c93-9317-f013c6785fa9",
   "metadata": {},
   "outputs": [],
   "source": [
    "torch.save(swin_transfromer_model,\"Saved Models/SwinTransformers.pth\")"
   ]
  }
 ],
 "metadata": {
  "kernelspec": {
   "display_name": "Python [conda env:base] *",
   "language": "python",
   "name": "conda-base-py"
  },
  "language_info": {
   "codemirror_mode": {
    "name": "ipython",
    "version": 3
   },
   "file_extension": ".py",
   "mimetype": "text/x-python",
   "name": "python",
   "nbconvert_exporter": "python",
   "pygments_lexer": "ipython3",
   "version": "3.12.7"
  }
 },
 "nbformat": 4,
 "nbformat_minor": 5
}
