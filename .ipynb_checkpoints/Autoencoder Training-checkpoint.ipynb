{
 "cells": [
  {
   "cell_type": "code",
   "execution_count": null,
   "id": "254d4cb6-3f2a-424c-8cda-89c4914f2e9d",
   "metadata": {},
   "outputs": [],
   "source": [
    "pip install torch torchvision torchaudio --index-url https://download.pytorch.org/whl/cu126\n"
   ]
  },
  {
   "cell_type": "code",
   "execution_count": null,
   "id": "f0791259-8ae7-4a7f-9380-4a08562c712c",
   "metadata": {},
   "outputs": [],
   "source": [
    "from CAE import ConvAutoencoder\n",
    "from "
   ]
  }
 ],
 "metadata": {
  "kernelspec": {
   "display_name": "Python [conda env:base] *",
   "language": "python",
   "name": "conda-base-py"
  },
  "language_info": {
   "codemirror_mode": {
    "name": "ipython",
    "version": 3
   },
   "file_extension": ".py",
   "mimetype": "text/x-python",
   "name": "python",
   "nbconvert_exporter": "python",
   "pygments_lexer": "ipython3",
   "version": "3.12.7"
  }
 },
 "nbformat": 4,
 "nbformat_minor": 5
}
