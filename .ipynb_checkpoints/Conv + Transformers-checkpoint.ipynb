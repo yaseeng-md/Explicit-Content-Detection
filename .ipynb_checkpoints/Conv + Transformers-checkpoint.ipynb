{
 "cells": [
  {
   "cell_type": "markdown",
   "id": "5a507f1d-0308-4245-974d-a25ebd8e305a",
   "metadata": {},
   "source": [
    "# Importing Requried Libraries"
   ]
  },
  {
   "cell_type": "code",
   "execution_count": 3,
   "id": "10819b54-fe69-4327-87f7-63d6571f6abc",
   "metadata": {},
   "outputs": [],
   "source": [
    "import torch \n",
    "import os\n",
    "import numpy as np \n",
    "from torchvision.models.vision_transformer import VisionTransformer\n",
    "from Dataset_Loader import ImageDataset\n",
    "# from ViT import ViT\n",
    "from torch import Tensor\n",
    "from torch import nn,optim\n",
    "from torch.utils.data import DataLoader,TensorDataset\n",
    "import torch\n",
    "\n",
    "from torch.utils.data import DataLoader\n",
    "from tqdm import tqdm\n",
    "from PIL import ImageFile\n",
    "ImageFile.LOAD_TRUNCATED_IMAGES = True\n",
    "\n",
    "\n",
    "if torch.cuda.is_available():\n",
    "    device = \"cuda\"\n",
    "else:\n",
    "    device = \"cpu\""
   ]
  },
  {
   "cell_type": "code",
   "execution_count": 5,
   "id": "a00f075c-837d-4d69-a028-934b35e2de98",
   "metadata": {},
   "outputs": [
    {
     "data": {
      "text/plain": [
       "'cuda'"
      ]
     },
     "execution_count": 5,
     "metadata": {},
     "output_type": "execute_result"
    }
   ],
   "source": [
    "device"
   ]
  },
  {
   "cell_type": "markdown",
   "id": "35eb95d3-0c82-411c-8449-249267ad95d7",
   "metadata": {},
   "source": [
    "# Hyper Parameters"
   ]
  },
  {
   "cell_type": "code",
   "execution_count": 6,
   "id": "4d55a09c-e2a7-4273-95f8-4b17ceb8c2fa",
   "metadata": {},
   "outputs": [],
   "source": [
    "IMG_SIZE = 224\n",
    "BATCH_SIZE = 32\n",
    "SHUFFLE = True\n",
    "EPOCHS = 50\n",
    "PATCH_SIZE = 16\n",
    "NUM_LAYERS = 2\n",
    "NUM_HEADS = 2\n",
    "HIDDEN_DIM = 128\n",
    "MLP_DIM = 256\n",
    "DROPOUT = 0.2\n",
    "LEARNING_RATE = 1e-4\n",
    "TRAIN_PATH = \"Dataset/train/\"\n",
    "VAL_PATH = \"Dataset/val1/\""
   ]
  },
  {
   "cell_type": "markdown",
   "id": "3bd8564a-1949-4d75-b812-536a4164bc64",
   "metadata": {},
   "source": [
    "## Creating the DataLoader"
   ]
  },
  {
   "cell_type": "code",
   "execution_count": 7,
   "id": "18e2ce88-2f09-4891-a874-51dbde937b0d",
   "metadata": {},
   "outputs": [],
   "source": [
    "train_image_dataset = ImageDataset(path=TRAIN_PATH,img_size=IMG_SIZE,batch_size=BATCH_SIZE,shuffle=SHUFFLE)\n",
    "val_image_dataset =  ImageDataset(path=VAL_PATH,img_size=IMG_SIZE,batch_size=BATCH_SIZE,shuffle=SHUFFLE)"
   ]
  },
  {
   "cell_type": "code",
   "execution_count": 8,
   "id": "7c84f97e-8826-4a78-877c-841b0b410c20",
   "metadata": {},
   "outputs": [],
   "source": [
    "train_loader = train_image_dataset.get_dataloader()\n",
    "val_loader = val_image_dataset.get_dataloader()"
   ]
  },
  {
   "cell_type": "code",
   "execution_count": 9,
   "id": "f2056cfb-2cb2-4cab-886c-e61863917a19",
   "metadata": {},
   "outputs": [
    {
     "data": {
      "text/plain": [
       "{'Safe': 0, 'notSafe': 1}"
      ]
     },
     "execution_count": 9,
     "metadata": {},
     "output_type": "execute_result"
    }
   ],
   "source": [
    "train_image_dataset.get_labels()"
   ]
  },
  {
   "cell_type": "markdown",
   "id": "88921943-5b5f-4526-8d85-81e1d2554b35",
   "metadata": {},
   "source": [
    "# Model Training:"
   ]
  },
  {
   "cell_type": "markdown",
   "id": "36ff4e9a-58aa-4e86-8583-ff0c870f89e9",
   "metadata": {},
   "source": [
    "### Creating Model"
   ]
  },
  {
   "cell_type": "code",
   "execution_count": 10,
   "id": "3ed5b5c2-60f7-4aca-992e-d7e8c289e3b3",
   "metadata": {},
   "outputs": [
    {
     "data": {
      "text/plain": [
       "Sequential(\n",
       "  (0): VisionTransformer(\n",
       "    (conv_proj): Conv2d(3, 128, kernel_size=(16, 16), stride=(16, 16))\n",
       "    (encoder): Encoder(\n",
       "      (dropout): Dropout(p=0.2, inplace=False)\n",
       "      (layers): Sequential(\n",
       "        (encoder_layer_0): EncoderBlock(\n",
       "          (ln_1): LayerNorm((128,), eps=1e-06, elementwise_affine=True)\n",
       "          (self_attention): MultiheadAttention(\n",
       "            (out_proj): NonDynamicallyQuantizableLinear(in_features=128, out_features=128, bias=True)\n",
       "          )\n",
       "          (dropout): Dropout(p=0.2, inplace=False)\n",
       "          (ln_2): LayerNorm((128,), eps=1e-06, elementwise_affine=True)\n",
       "          (mlp): MLPBlock(\n",
       "            (0): Linear(in_features=128, out_features=256, bias=True)\n",
       "            (1): GELU(approximate='none')\n",
       "            (2): Dropout(p=0.2, inplace=False)\n",
       "            (3): Linear(in_features=256, out_features=128, bias=True)\n",
       "            (4): Dropout(p=0.2, inplace=False)\n",
       "          )\n",
       "        )\n",
       "        (encoder_layer_1): EncoderBlock(\n",
       "          (ln_1): LayerNorm((128,), eps=1e-06, elementwise_affine=True)\n",
       "          (self_attention): MultiheadAttention(\n",
       "            (out_proj): NonDynamicallyQuantizableLinear(in_features=128, out_features=128, bias=True)\n",
       "          )\n",
       "          (dropout): Dropout(p=0.2, inplace=False)\n",
       "          (ln_2): LayerNorm((128,), eps=1e-06, elementwise_affine=True)\n",
       "          (mlp): MLPBlock(\n",
       "            (0): Linear(in_features=128, out_features=256, bias=True)\n",
       "            (1): GELU(approximate='none')\n",
       "            (2): Dropout(p=0.2, inplace=False)\n",
       "            (3): Linear(in_features=256, out_features=128, bias=True)\n",
       "            (4): Dropout(p=0.2, inplace=False)\n",
       "          )\n",
       "        )\n",
       "      )\n",
       "      (ln): LayerNorm((128,), eps=1e-06, elementwise_affine=True)\n",
       "    )\n",
       "    (heads): Sequential(\n",
       "      (head): Linear(in_features=128, out_features=1000, bias=True)\n",
       "    )\n",
       "  )\n",
       "  (1): Linear(in_features=1000, out_features=2, bias=True)\n",
       "  (2): Sigmoid()\n",
       ")"
      ]
     },
     "execution_count": 10,
     "metadata": {},
     "output_type": "execute_result"
    }
   ],
   "source": [
    "vit_model = VisionTransformer(\n",
    "    image_size = IMG_SIZE,\n",
    "    patch_size = PATCH_SIZE,\n",
    "    num_layers = NUM_LAYERS,\n",
    "    num_heads = NUM_HEADS,\n",
    "    hidden_dim = HIDDEN_DIM,\n",
    "    mlp_dim = MLP_DIM,\n",
    "    dropout = DROPOUT,\n",
    ")\n",
    "seq_vit_model = torch.nn.Sequential(\n",
    "    vit_model,\n",
    "    nn.Linear(1000,2),\n",
    "    nn.Sigmoid()\n",
    ")\n",
    "seq_vit_model.to(device)\n",
    "seq_vit_model"
   ]
  },
  {
   "cell_type": "markdown",
   "id": "383fa09e-9aee-4c00-9bb7-910d03d60b7d",
   "metadata": {},
   "source": [
    "### Defining Loss Functions"
   ]
  },
  {
   "cell_type": "code",
   "execution_count": 11,
   "id": "372e4b1d-af7c-4304-baaa-7d2fd2ff6d41",
   "metadata": {},
   "outputs": [],
   "source": [
    "LOSS_FUNCTION = torch.nn.CrossEntropyLoss()\n",
    "OPTIMIZER = torch.optim.Adam(seq_vit_model.parameters(), lr = LEARNING_RATE)"
   ]
  },
  {
   "cell_type": "markdown",
   "id": "40bde59c-5e15-4820-8865-8ce7532b29ae",
   "metadata": {},
   "source": [
    "# Model Training"
   ]
  },
  {
   "cell_type": "code",
   "execution_count": 25,
   "id": "ac4b21d1-9e39-4b01-bec9-cd04364370b0",
   "metadata": {},
   "outputs": [],
   "source": [
    " # (batch_size, channels, height, width)."
   ]
  },
  {
   "cell_type": "code",
   "execution_count": 12,
   "id": "19f191e1-55d0-4506-8aa1-895b04b5b7a7",
   "metadata": {},
   "outputs": [
    {
     "name": "stderr",
     "output_type": "stream",
     "text": [
      "Epoch 1/50 [Train]: 100%|████████████████████████████████████████████████████████████| 196/196 [01:42<00:00,  1.91it/s]\n",
      "Epoch 1/50 [Val]: 100%|██████████████████████████████████████████████████████████████| 195/195 [01:24<00:00,  2.30it/s]\n"
     ]
    },
    {
     "name": "stdout",
     "output_type": "stream",
     "text": [
      "Epoch 1/50, Train Loss: 0.5642, Train Acc: 0.7457, Val Loss: 0.5222, Val Acc: 0.7836\n"
     ]
    },
    {
     "name": "stderr",
     "output_type": "stream",
     "text": [
      "Epoch 2/50 [Train]: 100%|████████████████████████████████████████████████████████████| 196/196 [01:09<00:00,  2.82it/s]\n",
      "Epoch 2/50 [Val]: 100%|██████████████████████████████████████████████████████████████| 195/195 [01:18<00:00,  2.49it/s]\n"
     ]
    },
    {
     "name": "stdout",
     "output_type": "stream",
     "text": [
      "Epoch 2/50, Train Loss: 0.5246, Train Acc: 0.7814, Val Loss: 0.5143, Val Acc: 0.7923\n"
     ]
    },
    {
     "name": "stderr",
     "output_type": "stream",
     "text": [
      "Epoch 3/50 [Train]: 100%|████████████████████████████████████████████████████████████| 196/196 [01:06<00:00,  2.94it/s]\n",
      "Epoch 3/50 [Val]: 100%|██████████████████████████████████████████████████████████████| 195/195 [01:08<00:00,  2.84it/s]\n"
     ]
    },
    {
     "name": "stdout",
     "output_type": "stream",
     "text": [
      "Epoch 3/50, Train Loss: 0.5120, Train Acc: 0.7947, Val Loss: 0.5071, Val Acc: 0.8020\n"
     ]
    },
    {
     "name": "stderr",
     "output_type": "stream",
     "text": [
      "Epoch 4/50 [Train]: 100%|████████████████████████████████████████████████████████████| 196/196 [01:03<00:00,  3.09it/s]\n",
      "Epoch 4/50 [Val]: 100%|██████████████████████████████████████████████████████████████| 195/195 [01:03<00:00,  3.05it/s]\n"
     ]
    },
    {
     "name": "stdout",
     "output_type": "stream",
     "text": [
      "Epoch 4/50, Train Loss: 0.4997, Train Acc: 0.8047, Val Loss: 0.5010, Val Acc: 0.8049\n"
     ]
    },
    {
     "name": "stderr",
     "output_type": "stream",
     "text": [
      "Epoch 5/50 [Train]: 100%|████████████████████████████████████████████████████████████| 196/196 [01:01<00:00,  3.19it/s]\n",
      "Epoch 5/50 [Val]: 100%|██████████████████████████████████████████████████████████████| 195/195 [01:03<00:00,  3.06it/s]\n"
     ]
    },
    {
     "name": "stdout",
     "output_type": "stream",
     "text": [
      "Epoch 5/50, Train Loss: 0.4944, Train Acc: 0.8111, Val Loss: 0.4908, Val Acc: 0.8182\n"
     ]
    },
    {
     "name": "stderr",
     "output_type": "stream",
     "text": [
      "Epoch 6/50 [Train]: 100%|████████████████████████████████████████████████████████████| 196/196 [01:03<00:00,  3.08it/s]\n",
      "Epoch 6/50 [Val]: 100%|██████████████████████████████████████████████████████████████| 195/195 [01:04<00:00,  3.00it/s]\n"
     ]
    },
    {
     "name": "stdout",
     "output_type": "stream",
     "text": [
      "Epoch 6/50, Train Loss: 0.4909, Train Acc: 0.8156, Val Loss: 0.4893, Val Acc: 0.8187\n"
     ]
    },
    {
     "name": "stderr",
     "output_type": "stream",
     "text": [
      "Epoch 7/50 [Train]: 100%|████████████████████████████████████████████████████████████| 196/196 [01:04<00:00,  3.05it/s]\n",
      "Epoch 7/50 [Val]: 100%|██████████████████████████████████████████████████████████████| 195/195 [01:07<00:00,  2.90it/s]\n"
     ]
    },
    {
     "name": "stdout",
     "output_type": "stream",
     "text": [
      "Epoch 7/50, Train Loss: 0.4811, Train Acc: 0.8239, Val Loss: 0.4963, Val Acc: 0.8119\n"
     ]
    },
    {
     "name": "stderr",
     "output_type": "stream",
     "text": [
      "Epoch 8/50 [Train]: 100%|████████████████████████████████████████████████████████████| 196/196 [01:03<00:00,  3.10it/s]\n",
      "Epoch 8/50 [Val]: 100%|██████████████████████████████████████████████████████████████| 195/195 [01:12<00:00,  2.70it/s]\n"
     ]
    },
    {
     "name": "stdout",
     "output_type": "stream",
     "text": [
      "Epoch 8/50, Train Loss: 0.4775, Train Acc: 0.8321, Val Loss: 0.4975, Val Acc: 0.8084\n"
     ]
    },
    {
     "name": "stderr",
     "output_type": "stream",
     "text": [
      "Epoch 9/50 [Train]: 100%|████████████████████████████████████████████████████████████| 196/196 [01:07<00:00,  2.89it/s]\n",
      "Epoch 9/50 [Val]: 100%|██████████████████████████████████████████████████████████████| 195/195 [01:08<00:00,  2.84it/s]\n"
     ]
    },
    {
     "name": "stdout",
     "output_type": "stream",
     "text": [
      "Epoch 9/50, Train Loss: 0.4751, Train Acc: 0.8343, Val Loss: 0.5159, Val Acc: 0.7912\n"
     ]
    },
    {
     "name": "stderr",
     "output_type": "stream",
     "text": [
      "Epoch 10/50 [Train]: 100%|███████████████████████████████████████████████████████████| 196/196 [01:09<00:00,  2.81it/s]\n",
      "Epoch 10/50 [Val]: 100%|█████████████████████████████████████████████████████████████| 195/195 [01:07<00:00,  2.88it/s]\n"
     ]
    },
    {
     "name": "stdout",
     "output_type": "stream",
     "text": [
      "Epoch 10/50, Train Loss: 0.4754, Train Acc: 0.8338, Val Loss: 0.5013, Val Acc: 0.8069\n"
     ]
    },
    {
     "name": "stderr",
     "output_type": "stream",
     "text": [
      "Epoch 11/50 [Train]: 100%|███████████████████████████████████████████████████████████| 196/196 [01:07<00:00,  2.88it/s]\n",
      "Epoch 11/50 [Val]: 100%|█████████████████████████████████████████████████████████████| 195/195 [01:09<00:00,  2.80it/s]\n"
     ]
    },
    {
     "name": "stdout",
     "output_type": "stream",
     "text": [
      "Epoch 11/50, Train Loss: 0.4737, Train Acc: 0.8346, Val Loss: 0.4925, Val Acc: 0.8143\n"
     ]
    },
    {
     "name": "stderr",
     "output_type": "stream",
     "text": [
      "Epoch 12/50 [Train]: 100%|███████████████████████████████████████████████████████████| 196/196 [01:06<00:00,  2.96it/s]\n",
      "Epoch 12/50 [Val]: 100%|█████████████████████████████████████████████████████████████| 195/195 [01:06<00:00,  2.92it/s]\n"
     ]
    },
    {
     "name": "stdout",
     "output_type": "stream",
     "text": [
      "Epoch 12/50, Train Loss: 0.4676, Train Acc: 0.8425, Val Loss: 0.5199, Val Acc: 0.7856\n"
     ]
    },
    {
     "name": "stderr",
     "output_type": "stream",
     "text": [
      "Epoch 13/50 [Train]: 100%|███████████████████████████████████████████████████████████| 196/196 [01:06<00:00,  2.96it/s]\n",
      "Epoch 13/50 [Val]: 100%|█████████████████████████████████████████████████████████████| 195/195 [01:05<00:00,  2.96it/s]\n"
     ]
    },
    {
     "name": "stdout",
     "output_type": "stream",
     "text": [
      "Epoch 13/50, Train Loss: 0.4699, Train Acc: 0.8378, Val Loss: 0.5046, Val Acc: 0.8037\n"
     ]
    },
    {
     "name": "stderr",
     "output_type": "stream",
     "text": [
      "Epoch 14/50 [Train]: 100%|███████████████████████████████████████████████████████████| 196/196 [01:05<00:00,  3.00it/s]\n",
      "Epoch 14/50 [Val]: 100%|█████████████████████████████████████████████████████████████| 195/195 [01:11<00:00,  2.75it/s]\n"
     ]
    },
    {
     "name": "stdout",
     "output_type": "stream",
     "text": [
      "Epoch 14/50, Train Loss: 0.4598, Train Acc: 0.8489, Val Loss: 0.5031, Val Acc: 0.8055\n"
     ]
    },
    {
     "name": "stderr",
     "output_type": "stream",
     "text": [
      "Epoch 15/50 [Train]: 100%|███████████████████████████████████████████████████████████| 196/196 [01:03<00:00,  3.10it/s]\n",
      "Epoch 15/50 [Val]: 100%|█████████████████████████████████████████████████████████████| 195/195 [01:05<00:00,  3.00it/s]\n"
     ]
    },
    {
     "name": "stdout",
     "output_type": "stream",
     "text": [
      "Epoch 15/50, Train Loss: 0.4616, Train Acc: 0.8486, Val Loss: 0.5305, Val Acc: 0.7772\n"
     ]
    },
    {
     "name": "stderr",
     "output_type": "stream",
     "text": [
      "Epoch 16/50 [Train]: 100%|███████████████████████████████████████████████████████████| 196/196 [01:05<00:00,  3.01it/s]\n",
      "Epoch 16/50 [Val]: 100%|█████████████████████████████████████████████████████████████| 195/195 [01:02<00:00,  3.11it/s]\n"
     ]
    },
    {
     "name": "stdout",
     "output_type": "stream",
     "text": [
      "Epoch 16/50, Train Loss: 0.4660, Train Acc: 0.8447, Val Loss: 0.5040, Val Acc: 0.8041\n"
     ]
    },
    {
     "name": "stderr",
     "output_type": "stream",
     "text": [
      "Epoch 17/50 [Train]: 100%|███████████████████████████████████████████████████████████| 196/196 [01:18<00:00,  2.50it/s]\n",
      "Epoch 17/50 [Val]: 100%|█████████████████████████████████████████████████████████████| 195/195 [01:03<00:00,  3.05it/s]\n"
     ]
    },
    {
     "name": "stdout",
     "output_type": "stream",
     "text": [
      "Epoch 17/50, Train Loss: 0.4597, Train Acc: 0.8478, Val Loss: 0.5002, Val Acc: 0.8058\n"
     ]
    },
    {
     "name": "stderr",
     "output_type": "stream",
     "text": [
      "Epoch 18/50 [Train]: 100%|███████████████████████████████████████████████████████████| 196/196 [01:04<00:00,  3.05it/s]\n",
      "Epoch 18/50 [Val]: 100%|█████████████████████████████████████████████████████████████| 195/195 [01:27<00:00,  2.23it/s]\n"
     ]
    },
    {
     "name": "stdout",
     "output_type": "stream",
     "text": [
      "Epoch 18/50, Train Loss: 0.4557, Train Acc: 0.8518, Val Loss: 0.4961, Val Acc: 0.8118\n"
     ]
    },
    {
     "name": "stderr",
     "output_type": "stream",
     "text": [
      "Epoch 19/50 [Train]: 100%|███████████████████████████████████████████████████████████| 196/196 [01:03<00:00,  3.08it/s]\n",
      "Epoch 19/50 [Val]: 100%|█████████████████████████████████████████████████████████████| 195/195 [01:13<00:00,  2.65it/s]\n"
     ]
    },
    {
     "name": "stdout",
     "output_type": "stream",
     "text": [
      "Epoch 19/50, Train Loss: 0.4581, Train Acc: 0.8537, Val Loss: 0.4943, Val Acc: 0.8159\n"
     ]
    },
    {
     "name": "stderr",
     "output_type": "stream",
     "text": [
      "Epoch 20/50 [Train]: 100%|███████████████████████████████████████████████████████████| 196/196 [01:39<00:00,  1.98it/s]\n",
      "Epoch 20/50 [Val]: 100%|█████████████████████████████████████████████████████████████| 195/195 [01:43<00:00,  1.88it/s]\n"
     ]
    },
    {
     "name": "stdout",
     "output_type": "stream",
     "text": [
      "Epoch 20/50, Train Loss: 0.4509, Train Acc: 0.8597, Val Loss: 0.5116, Val Acc: 0.7957\n"
     ]
    },
    {
     "name": "stderr",
     "output_type": "stream",
     "text": [
      "Epoch 21/50 [Train]: 100%|███████████████████████████████████████████████████████████| 196/196 [01:39<00:00,  1.97it/s]\n",
      "Epoch 21/50 [Val]: 100%|█████████████████████████████████████████████████████████████| 195/195 [01:44<00:00,  1.86it/s]\n"
     ]
    },
    {
     "name": "stdout",
     "output_type": "stream",
     "text": [
      "Epoch 21/50, Train Loss: 0.4523, Train Acc: 0.8567, Val Loss: 0.4919, Val Acc: 0.8177\n"
     ]
    },
    {
     "name": "stderr",
     "output_type": "stream",
     "text": [
      "Epoch 22/50 [Train]: 100%|███████████████████████████████████████████████████████████| 196/196 [02:15<00:00,  1.44it/s]\n",
      "Epoch 22/50 [Val]: 100%|█████████████████████████████████████████████████████████████| 195/195 [02:09<00:00,  1.50it/s]\n"
     ]
    },
    {
     "name": "stdout",
     "output_type": "stream",
     "text": [
      "Epoch 22/50, Train Loss: 0.4557, Train Acc: 0.8526, Val Loss: 0.4902, Val Acc: 0.8172\n"
     ]
    },
    {
     "name": "stderr",
     "output_type": "stream",
     "text": [
      "Epoch 23/50 [Train]: 100%|███████████████████████████████████████████████████████████| 196/196 [01:51<00:00,  1.76it/s]\n",
      "Epoch 23/50 [Val]: 100%|█████████████████████████████████████████████████████████████| 195/195 [25:56<00:00,  7.98s/it]\n"
     ]
    },
    {
     "name": "stdout",
     "output_type": "stream",
     "text": [
      "Epoch 23/50, Train Loss: 0.4502, Train Acc: 0.8589, Val Loss: 0.5084, Val Acc: 0.7968\n"
     ]
    },
    {
     "name": "stderr",
     "output_type": "stream",
     "text": [
      "Epoch 24/50 [Train]: 100%|███████████████████████████████████████████████████████████| 196/196 [01:04<00:00,  3.02it/s]\n",
      "Epoch 24/50 [Val]: 100%|█████████████████████████████████████████████████████████████| 195/195 [01:06<00:00,  2.95it/s]\n"
     ]
    },
    {
     "name": "stdout",
     "output_type": "stream",
     "text": [
      "Epoch 24/50, Train Loss: 0.4466, Train Acc: 0.8625, Val Loss: 0.5271, Val Acc: 0.7798\n"
     ]
    },
    {
     "name": "stderr",
     "output_type": "stream",
     "text": [
      "Epoch 25/50 [Train]: 100%|███████████████████████████████████████████████████████████| 196/196 [01:05<00:00,  2.99it/s]\n",
      "Epoch 25/50 [Val]: 100%|█████████████████████████████████████████████████████████████| 195/195 [01:04<00:00,  3.00it/s]\n"
     ]
    },
    {
     "name": "stdout",
     "output_type": "stream",
     "text": [
      "Epoch 25/50, Train Loss: 0.4481, Train Acc: 0.8594, Val Loss: 0.5062, Val Acc: 0.8024\n"
     ]
    },
    {
     "name": "stderr",
     "output_type": "stream",
     "text": [
      "Epoch 26/50 [Train]: 100%|███████████████████████████████████████████████████████████| 196/196 [01:04<00:00,  3.02it/s]\n",
      "Epoch 26/50 [Val]: 100%|█████████████████████████████████████████████████████████████| 195/195 [01:04<00:00,  3.02it/s]\n"
     ]
    },
    {
     "name": "stdout",
     "output_type": "stream",
     "text": [
      "Epoch 26/50, Train Loss: 0.4443, Train Acc: 0.8650, Val Loss: 0.5178, Val Acc: 0.7902\n"
     ]
    },
    {
     "name": "stderr",
     "output_type": "stream",
     "text": [
      "Epoch 27/50 [Train]: 100%|███████████████████████████████████████████████████████████| 196/196 [01:01<00:00,  3.18it/s]\n",
      "Epoch 27/50 [Val]: 100%|█████████████████████████████████████████████████████████████| 195/195 [01:02<00:00,  3.10it/s]\n"
     ]
    },
    {
     "name": "stdout",
     "output_type": "stream",
     "text": [
      "Epoch 27/50, Train Loss: 0.4460, Train Acc: 0.8639, Val Loss: 0.5189, Val Acc: 0.7867\n"
     ]
    },
    {
     "name": "stderr",
     "output_type": "stream",
     "text": [
      "Epoch 28/50 [Train]: 100%|███████████████████████████████████████████████████████████| 196/196 [01:00<00:00,  3.23it/s]\n",
      "Epoch 28/50 [Val]: 100%|█████████████████████████████████████████████████████████████| 195/195 [01:02<00:00,  3.13it/s]\n"
     ]
    },
    {
     "name": "stdout",
     "output_type": "stream",
     "text": [
      "Epoch 28/50, Train Loss: 0.4455, Train Acc: 0.8631, Val Loss: 0.5174, Val Acc: 0.7870\n"
     ]
    },
    {
     "name": "stderr",
     "output_type": "stream",
     "text": [
      "Epoch 29/50 [Train]: 100%|███████████████████████████████████████████████████████████| 196/196 [01:00<00:00,  3.23it/s]\n",
      "Epoch 29/50 [Val]: 100%|█████████████████████████████████████████████████████████████| 195/195 [01:03<00:00,  3.07it/s]\n"
     ]
    },
    {
     "name": "stdout",
     "output_type": "stream",
     "text": [
      "Epoch 29/50, Train Loss: 0.4451, Train Acc: 0.8658, Val Loss: 0.4928, Val Acc: 0.8163\n"
     ]
    },
    {
     "name": "stderr",
     "output_type": "stream",
     "text": [
      "Epoch 30/50 [Train]: 100%|███████████████████████████████████████████████████████████| 196/196 [00:59<00:00,  3.27it/s]\n",
      "Epoch 30/50 [Val]: 100%|█████████████████████████████████████████████████████████████| 195/195 [01:04<00:00,  3.05it/s]\n"
     ]
    },
    {
     "name": "stdout",
     "output_type": "stream",
     "text": [
      "Epoch 30/50, Train Loss: 0.4448, Train Acc: 0.8636, Val Loss: 0.4956, Val Acc: 0.8140\n"
     ]
    },
    {
     "name": "stderr",
     "output_type": "stream",
     "text": [
      "Epoch 31/50 [Train]: 100%|███████████████████████████████████████████████████████████| 196/196 [01:00<00:00,  3.23it/s]\n",
      "Epoch 31/50 [Val]: 100%|█████████████████████████████████████████████████████████████| 195/195 [01:02<00:00,  3.10it/s]\n"
     ]
    },
    {
     "name": "stdout",
     "output_type": "stream",
     "text": [
      "Epoch 31/50, Train Loss: 0.4427, Train Acc: 0.8674, Val Loss: 0.5059, Val Acc: 0.8012\n"
     ]
    },
    {
     "name": "stderr",
     "output_type": "stream",
     "text": [
      "Epoch 32/50 [Train]: 100%|███████████████████████████████████████████████████████████| 196/196 [01:01<00:00,  3.18it/s]\n",
      "Epoch 32/50 [Val]: 100%|█████████████████████████████████████████████████████████████| 195/195 [01:03<00:00,  3.08it/s]\n"
     ]
    },
    {
     "name": "stdout",
     "output_type": "stream",
     "text": [
      "Epoch 32/50, Train Loss: 0.4460, Train Acc: 0.8633, Val Loss: 0.5029, Val Acc: 0.8065\n"
     ]
    },
    {
     "name": "stderr",
     "output_type": "stream",
     "text": [
      "Epoch 33/50 [Train]: 100%|███████████████████████████████████████████████████████████| 196/196 [01:01<00:00,  3.19it/s]\n",
      "Epoch 33/50 [Val]: 100%|█████████████████████████████████████████████████████████████| 195/195 [01:02<00:00,  3.10it/s]\n"
     ]
    },
    {
     "name": "stdout",
     "output_type": "stream",
     "text": [
      "Epoch 33/50, Train Loss: 0.4389, Train Acc: 0.8714, Val Loss: 0.5156, Val Acc: 0.7917\n"
     ]
    },
    {
     "name": "stderr",
     "output_type": "stream",
     "text": [
      "Epoch 34/50 [Train]: 100%|███████████████████████████████████████████████████████████| 196/196 [01:00<00:00,  3.23it/s]\n",
      "Epoch 34/50 [Val]: 100%|█████████████████████████████████████████████████████████████| 195/195 [01:01<00:00,  3.15it/s]\n"
     ]
    },
    {
     "name": "stdout",
     "output_type": "stream",
     "text": [
      "Epoch 34/50, Train Loss: 0.4436, Train Acc: 0.8679, Val Loss: 0.4979, Val Acc: 0.8090\n"
     ]
    },
    {
     "name": "stderr",
     "output_type": "stream",
     "text": [
      "Epoch 35/50 [Train]: 100%|███████████████████████████████████████████████████████████| 196/196 [01:01<00:00,  3.19it/s]\n",
      "Epoch 35/50 [Val]: 100%|█████████████████████████████████████████████████████████████| 195/195 [01:03<00:00,  3.07it/s]\n"
     ]
    },
    {
     "name": "stdout",
     "output_type": "stream",
     "text": [
      "Epoch 35/50, Train Loss: 0.4394, Train Acc: 0.8709, Val Loss: 0.4955, Val Acc: 0.8111\n"
     ]
    },
    {
     "name": "stderr",
     "output_type": "stream",
     "text": [
      "Epoch 36/50 [Train]: 100%|███████████████████████████████████████████████████████████| 196/196 [01:00<00:00,  3.26it/s]\n",
      "Epoch 36/50 [Val]: 100%|█████████████████████████████████████████████████████████████| 195/195 [01:06<00:00,  2.95it/s]\n"
     ]
    },
    {
     "name": "stdout",
     "output_type": "stream",
     "text": [
      "Epoch 36/50, Train Loss: 0.4347, Train Acc: 0.8740, Val Loss: 0.5016, Val Acc: 0.8039\n"
     ]
    },
    {
     "name": "stderr",
     "output_type": "stream",
     "text": [
      "Epoch 37/50 [Train]: 100%|███████████████████████████████████████████████████████████| 196/196 [01:00<00:00,  3.25it/s]\n",
      "Epoch 37/50 [Val]: 100%|█████████████████████████████████████████████████████████████| 195/195 [01:02<00:00,  3.11it/s]\n"
     ]
    },
    {
     "name": "stdout",
     "output_type": "stream",
     "text": [
      "Epoch 37/50, Train Loss: 0.4395, Train Acc: 0.8717, Val Loss: 0.5099, Val Acc: 0.7979\n"
     ]
    },
    {
     "name": "stderr",
     "output_type": "stream",
     "text": [
      "Epoch 38/50 [Train]: 100%|███████████████████████████████████████████████████████████| 196/196 [01:00<00:00,  3.25it/s]\n",
      "Epoch 38/50 [Val]: 100%|█████████████████████████████████████████████████████████████| 195/195 [01:03<00:00,  3.08it/s]\n"
     ]
    },
    {
     "name": "stdout",
     "output_type": "stream",
     "text": [
      "Epoch 38/50, Train Loss: 0.4371, Train Acc: 0.8729, Val Loss: 0.5066, Val Acc: 0.7999\n"
     ]
    },
    {
     "name": "stderr",
     "output_type": "stream",
     "text": [
      "Epoch 39/50 [Train]: 100%|███████████████████████████████████████████████████████████| 196/196 [01:01<00:00,  3.21it/s]\n",
      "Epoch 39/50 [Val]: 100%|█████████████████████████████████████████████████████████████| 195/195 [01:03<00:00,  3.09it/s]\n"
     ]
    },
    {
     "name": "stdout",
     "output_type": "stream",
     "text": [
      "Epoch 39/50, Train Loss: 0.4388, Train Acc: 0.8722, Val Loss: 0.5045, Val Acc: 0.8024\n"
     ]
    },
    {
     "name": "stderr",
     "output_type": "stream",
     "text": [
      "Epoch 40/50 [Train]: 100%|███████████████████████████████████████████████████████████| 196/196 [01:02<00:00,  3.13it/s]\n",
      "Epoch 40/50 [Val]: 100%|█████████████████████████████████████████████████████████████| 195/195 [01:01<00:00,  3.15it/s]\n"
     ]
    },
    {
     "name": "stdout",
     "output_type": "stream",
     "text": [
      "Epoch 40/50, Train Loss: 0.4367, Train Acc: 0.8743, Val Loss: 0.5025, Val Acc: 0.8060\n"
     ]
    },
    {
     "name": "stderr",
     "output_type": "stream",
     "text": [
      "Epoch 41/50 [Train]: 100%|███████████████████████████████████████████████████████████| 196/196 [01:01<00:00,  3.17it/s]\n",
      "Epoch 41/50 [Val]: 100%|█████████████████████████████████████████████████████████████| 195/195 [01:03<00:00,  3.08it/s]\n"
     ]
    },
    {
     "name": "stdout",
     "output_type": "stream",
     "text": [
      "Epoch 41/50, Train Loss: 0.4326, Train Acc: 0.8775, Val Loss: 0.4999, Val Acc: 0.8089\n"
     ]
    },
    {
     "name": "stderr",
     "output_type": "stream",
     "text": [
      "Epoch 42/50 [Train]: 100%|███████████████████████████████████████████████████████████| 196/196 [01:01<00:00,  3.20it/s]\n",
      "Epoch 42/50 [Val]: 100%|█████████████████████████████████████████████████████████████| 195/195 [01:03<00:00,  3.07it/s]\n"
     ]
    },
    {
     "name": "stdout",
     "output_type": "stream",
     "text": [
      "Epoch 42/50, Train Loss: 0.4360, Train Acc: 0.8730, Val Loss: 0.4899, Val Acc: 0.8177\n"
     ]
    },
    {
     "name": "stderr",
     "output_type": "stream",
     "text": [
      "Epoch 43/50 [Train]: 100%|███████████████████████████████████████████████████████████| 196/196 [01:01<00:00,  3.19it/s]\n",
      "Epoch 43/50 [Val]: 100%|█████████████████████████████████████████████████████████████| 195/195 [01:01<00:00,  3.16it/s]\n"
     ]
    },
    {
     "name": "stdout",
     "output_type": "stream",
     "text": [
      "Epoch 43/50, Train Loss: 0.4324, Train Acc: 0.8789, Val Loss: 0.4977, Val Acc: 0.8113\n"
     ]
    },
    {
     "name": "stderr",
     "output_type": "stream",
     "text": [
      "Epoch 44/50 [Train]: 100%|███████████████████████████████████████████████████████████| 196/196 [01:01<00:00,  3.17it/s]\n",
      "Epoch 44/50 [Val]: 100%|█████████████████████████████████████████████████████████████| 195/195 [01:04<00:00,  3.00it/s]\n"
     ]
    },
    {
     "name": "stdout",
     "output_type": "stream",
     "text": [
      "Epoch 44/50, Train Loss: 0.4366, Train Acc: 0.8748, Val Loss: 0.5105, Val Acc: 0.7975\n"
     ]
    },
    {
     "name": "stderr",
     "output_type": "stream",
     "text": [
      "Epoch 45/50 [Train]: 100%|███████████████████████████████████████████████████████████| 196/196 [01:04<00:00,  3.02it/s]\n",
      "Epoch 45/50 [Val]: 100%|█████████████████████████████████████████████████████████████| 195/195 [01:07<00:00,  2.90it/s]\n"
     ]
    },
    {
     "name": "stdout",
     "output_type": "stream",
     "text": [
      "Epoch 45/50, Train Loss: 0.4312, Train Acc: 0.8805, Val Loss: 0.5102, Val Acc: 0.7981\n"
     ]
    },
    {
     "name": "stderr",
     "output_type": "stream",
     "text": [
      "Epoch 46/50 [Train]: 100%|███████████████████████████████████████████████████████████| 196/196 [01:06<00:00,  2.97it/s]\n",
      "Epoch 46/50 [Val]: 100%|█████████████████████████████████████████████████████████████| 195/195 [01:07<00:00,  2.87it/s]\n"
     ]
    },
    {
     "name": "stdout",
     "output_type": "stream",
     "text": [
      "Epoch 46/50, Train Loss: 0.4317, Train Acc: 0.8769, Val Loss: 0.4908, Val Acc: 0.8185\n"
     ]
    },
    {
     "name": "stderr",
     "output_type": "stream",
     "text": [
      "Epoch 47/50 [Train]: 100%|███████████████████████████████████████████████████████████| 196/196 [01:04<00:00,  3.02it/s]\n",
      "Epoch 47/50 [Val]: 100%|█████████████████████████████████████████████████████████████| 195/195 [01:04<00:00,  3.00it/s]\n"
     ]
    },
    {
     "name": "stdout",
     "output_type": "stream",
     "text": [
      "Epoch 47/50, Train Loss: 0.4312, Train Acc: 0.8773, Val Loss: 0.5161, Val Acc: 0.7925\n"
     ]
    },
    {
     "name": "stderr",
     "output_type": "stream",
     "text": [
      "Epoch 48/50 [Train]: 100%|███████████████████████████████████████████████████████████| 196/196 [01:04<00:00,  3.04it/s]\n",
      "Epoch 48/50 [Val]: 100%|█████████████████████████████████████████████████████████████| 195/195 [01:04<00:00,  3.03it/s]\n"
     ]
    },
    {
     "name": "stdout",
     "output_type": "stream",
     "text": [
      "Epoch 48/50, Train Loss: 0.4322, Train Acc: 0.8764, Val Loss: 0.5101, Val Acc: 0.7994\n"
     ]
    },
    {
     "name": "stderr",
     "output_type": "stream",
     "text": [
      "Epoch 49/50 [Train]: 100%|███████████████████████████████████████████████████████████| 196/196 [01:06<00:00,  2.96it/s]\n",
      "Epoch 49/50 [Val]: 100%|█████████████████████████████████████████████████████████████| 195/195 [01:07<00:00,  2.91it/s]\n"
     ]
    },
    {
     "name": "stdout",
     "output_type": "stream",
     "text": [
      "Epoch 49/50, Train Loss: 0.4302, Train Acc: 0.8789, Val Loss: 0.5336, Val Acc: 0.7743\n"
     ]
    },
    {
     "name": "stderr",
     "output_type": "stream",
     "text": [
      "Epoch 50/50 [Train]: 100%|███████████████████████████████████████████████████████████| 196/196 [01:05<00:00,  2.99it/s]\n",
      "Epoch 50/50 [Val]: 100%|█████████████████████████████████████████████████████████████| 195/195 [01:05<00:00,  2.98it/s]"
     ]
    },
    {
     "name": "stdout",
     "output_type": "stream",
     "text": [
      "Epoch 50/50, Train Loss: 0.4350, Train Acc: 0.8741, Val Loss: 0.5033, Val Acc: 0.8045\n"
     ]
    },
    {
     "name": "stderr",
     "output_type": "stream",
     "text": [
      "\n"
     ]
    }
   ],
   "source": [
    "history = {\"train_loss\": [], \"val_loss\": [], \"train_acc\": [], \"val_acc\": []}\n",
    "\n",
    "for epoch in range(EPOCHS):\n",
    "    # Training phase\n",
    "    seq_vit_model.train()\n",
    "    train_loss = 0.0\n",
    "    correct_train = 0\n",
    "    total_train = 0\n",
    "\n",
    "    for images, labels in tqdm(train_loader, desc=f\"Epoch {epoch+1}/{EPOCHS} [Train]\"):\n",
    "        images, labels = images.to(device), labels.to(device)\n",
    "\n",
    "        # Ensure correct shape for Vision Transformer\n",
    "        if images.shape[1] != 3:  # Expecting (batch, 3, height, width)\n",
    "            images = images.permute(0, 3, 1, 2)  # Convert NHWC → NCHW\n",
    "        \n",
    "        OPTIMIZER.zero_grad()  # Clear gradients\n",
    "        outputs = seq_vit_model(images)  # Forward pass\n",
    "\n",
    "        # Compute loss\n",
    "        loss = LOSS_FUNCTION(outputs, labels)\n",
    "        loss.backward()  # Backpropagation\n",
    "        OPTIMIZER.step()  # Update weights\n",
    "\n",
    "        # Update training metrics\n",
    "        train_loss += loss.item()\n",
    "        correct_train += (outputs.argmax(dim=1) == labels).sum().item()  # Remove labels.argmax(dim=1)\n",
    "        total_train += labels.size(0)\n",
    "\n",
    "    train_loss /= len(train_loader)\n",
    "    train_acc = correct_train / total_train\n",
    "    history[\"train_loss\"].append(train_loss)\n",
    "    history[\"train_acc\"].append(train_acc)\n",
    "\n",
    "    # --------------------> Validation phase <------------------------\n",
    "    seq_vit_model.eval()\n",
    "    val_loss = 0.0\n",
    "    correct_val = 0\n",
    "    total_val = 0\n",
    "\n",
    "    with torch.no_grad():\n",
    "        for images, labels in tqdm(val_loader, desc=f\"Epoch {epoch+1}/{EPOCHS} [Val]\"):\n",
    "            images, labels = images.to(device), labels.to(device)\n",
    "\n",
    "            # Ensure correct shape\n",
    "            if images.shape[1] != 3:\n",
    "                images = images.permute(0, 3, 1, 2)\n",
    "\n",
    "            outputs = seq_vit_model(images)\n",
    "\n",
    "            # Compute loss\n",
    "            loss = LOSS_FUNCTION(outputs, labels)\n",
    "            val_loss += loss.item()\n",
    "\n",
    "            # Update validation metrics\n",
    "            correct_val += (outputs.argmax(dim=1) == labels).sum().item()\n",
    "            total_val += labels.size(0)\n",
    "\n",
    "    val_loss /= len(val_loader)\n",
    "    val_acc = correct_val / total_val\n",
    "    history[\"val_loss\"].append(val_loss)\n",
    "    history[\"val_acc\"].append(val_acc)\n",
    "\n",
    "    # Print epoch summary\n",
    "    print(f\"Epoch {epoch+1}/{EPOCHS}, Train Loss: {train_loss:.4f}, Train Acc: {train_acc:.4f}, \"\n",
    "          f\"Val Loss: {val_loss:.4f}, Val Acc: {val_acc:.4f}\")\n"
   ]
  },
  {
   "cell_type": "code",
   "execution_count": 16,
   "id": "5c9d8a71-9ef5-4f9b-b09b-68c84441aa02",
   "metadata": {},
   "outputs": [
    {
     "data": {
      "text/plain": [
       "(0.8805373420758036, 0.8186786690242727)"
      ]
     },
     "execution_count": 16,
     "metadata": {},
     "output_type": "execute_result"
    }
   ],
   "source": [
    "max(history[\"train_acc\"]),max(history[\"val_acc\"])"
   ]
  },
  {
   "cell_type": "code",
   "execution_count": 19,
   "id": "85d65370-37b4-45e6-9ea7-b02598c61106",
   "metadata": {},
   "outputs": [],
   "source": [
    "import pandas as pd\n",
    "model_history = pd.DataFrame(history)\n",
    "model_history.to_csv(\"Conv + Transformers.csv\")"
   ]
  },
  {
   "cell_type": "code",
   "execution_count": 20,
   "id": "acb9a858-62d8-46cf-b915-6bdaff044af9",
   "metadata": {},
   "outputs": [],
   "source": [
    "torch.save(seq_vit_model,\"Saved Models/Conv + Transformers.pth\")"
   ]
  }
 ],
 "metadata": {
  "kernelspec": {
   "display_name": "Python [conda env:base] *",
   "language": "python",
   "name": "conda-base-py"
  },
  "language_info": {
   "codemirror_mode": {
    "name": "ipython",
    "version": 3
   },
   "file_extension": ".py",
   "mimetype": "text/x-python",
   "name": "python",
   "nbconvert_exporter": "python",
   "pygments_lexer": "ipython3",
   "version": "3.12.7"
  }
 },
 "nbformat": 4,
 "nbformat_minor": 5
}
