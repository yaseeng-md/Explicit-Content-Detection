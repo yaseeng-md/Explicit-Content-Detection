{
 "cells": [
  {
   "cell_type": "code",
   "execution_count": 31,
   "id": "2c16113c-1850-439d-97fd-58e68ae168d0",
   "metadata": {},
   "outputs": [],
   "source": [
    "import os \n",
    "from PIL import Image"
   ]
  },
  {
   "cell_type": "code",
   "execution_count": 32,
   "id": "3deb617a-50d8-4201-941d-949f2662a82d",
   "metadata": {},
   "outputs": [],
   "source": [
    "def check_and_remove_corrupted_image(file_path):\n",
    "    try:\n",
    "        with Image.open(file_path) as img:\n",
    "            img.verify()  # Verify the image file integrity\n",
    "        return False  # Image is not corrupted\n",
    "    except (IOError, SyntaxError) as e:\n",
    "        print(f\"Removing corrupted image: {file_path} - {e}\")\n",
    "        os.remove(file_path)  # Remove corrupted image file\n",
    "        return True  # Image was corrupted and removed"
   ]
  },
  {
   "cell_type": "code",
   "execution_count": 34,
   "id": "f9f4fe76-6b56-4c6e-8e3e-0576663b3d73",
   "metadata": {},
   "outputs": [
    {
     "name": "stdout",
     "output_type": "stream",
     "text": [
      "Checking the NotSafe Directory\n",
      "Completed checking the NotSafe Directory\n",
      "Checking the Safe Directory\n",
      "Completed checking the Safe Directory\n"
     ]
    }
   ],
   "source": [
    "for root,directory,file in os.walk(\"Dataset/Extracted/train\"):\n",
    "    for label in directory:\n",
    "        print(f\"Checking the {label} Directory\")\n",
    "        for file in os.listdir(os.path.join(root,label)):\n",
    "            check_and_remove_corrupted_image(os.path.join(root,label,file))\n",
    "        print(f\"Completed checking the {label} Directory\")\n",
    "            "
   ]
  },
  {
   "cell_type": "code",
   "execution_count": 35,
   "id": "d360e4cd-b851-4735-a6e3-ec6e94175d41",
   "metadata": {},
   "outputs": [
    {
     "name": "stdout",
     "output_type": "stream",
     "text": [
      "Checking the NotSafe Directory\n",
      "Completed checking the NotSafe Directory\n",
      "Checking the Safe Directory\n",
      "Completed checking the Safe Directory\n"
     ]
    }
   ],
   "source": [
    "for root,directory,file in os.walk(\"Dataset/Extracted/val/\"):\n",
    "    for label in directory:\n",
    "        print(f\"Checking the {label} Directory\")\n",
    "        for file in os.listdir(os.path.join(root,label)):\n",
    "            check_and_remove_corrupted_image(os.path.join(root,label,file))\n",
    "        print(f\"Completed checking the {label} Directory\")\n",
    "            "
   ]
  }
 ],
 "metadata": {
  "kernelspec": {
   "display_name": "Python 3 (ipykernel)",
   "language": "python",
   "name": "python3"
  },
  "language_info": {
   "codemirror_mode": {
    "name": "ipython",
    "version": 3
   },
   "file_extension": ".py",
   "mimetype": "text/x-python",
   "name": "python",
   "nbconvert_exporter": "python",
   "pygments_lexer": "ipython3",
   "version": "3.12.7"
  }
 },
 "nbformat": 4,
 "nbformat_minor": 5
}
