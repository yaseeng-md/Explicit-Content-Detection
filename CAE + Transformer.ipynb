{
 "cells": [
  {
   "cell_type": "code",
   "execution_count": 46,
   "id": "002c3bf2-8aff-46f4-9fc1-ba62d37d261b",
   "metadata": {},
   "outputs": [],
   "source": [
    "import torch \n",
    "import os\n",
    "import numpy as np \n",
    "from torchvision.models.vision_transformer import VisionTransformer\n",
    "from Dataset_Loader import ImageDataset\n",
    "from torch import Tensor\n",
    "from torch import nn,optim\n",
    "from torch.utils.data import DataLoader,TensorDataset\n",
    "import torch\n",
    "from CAE import ConvAutoencoder\n",
    "from torch.utils.data import DataLoader\n",
    "from tqdm import tqdm\n",
    "from PIL import ImageFile\n",
    "ImageFile.LOAD_TRUNCATED_IMAGES = True\n",
    "from torch.optim import Adam\n",
    "from skimage.metrics import structural_similarity as ssim\n",
    "import cv2\n",
    "if torch.cuda.is_available():\n",
    "    device = \"cuda\"\n",
    "else:\n",
    "    device = \"cpu\"\n"
   ]
  },
  {
   "cell_type": "code",
   "execution_count": 5,
   "id": "89deedbb-8833-4e21-a4b7-7efe48b0c1c2",
   "metadata": {},
   "outputs": [],
   "source": [
    "IMG_SIZE = 224\n",
    "BATCH_SIZE = 32\n",
    "SHUFFLE = True\n",
    "EPOCHS = 50\n",
    "PATCH_SIZE = 16\n",
    "NUM_LAYERS = 2\n",
    "NUM_HEADS = 2\n",
    "HIDDEN_DIM = 128\n",
    "MLP_DIM = 256\n",
    "DROPOUT = 0.2\n",
    "LEARNING_RATE = 1e-4\n",
    "TRAIN_PATH = \"Dataset/train/\"\n",
    "VAL_PATH = \"Dataset/val1/\""
   ]
  },
  {
   "cell_type": "code",
   "execution_count": 7,
   "id": "d677406f-1a96-46b1-a300-43f05cd46cfb",
   "metadata": {},
   "outputs": [],
   "source": [
    "train_image_dataset = ImageDataset(path=TRAIN_PATH,img_size=IMG_SIZE,batch_size=BATCH_SIZE,shuffle=SHUFFLE)\n",
    "val_image_dataset =  ImageDataset(path=VAL_PATH,img_size=IMG_SIZE,batch_size=BATCH_SIZE,shuffle=SHUFFLE)"
   ]
  },
  {
   "cell_type": "code",
   "execution_count": 9,
   "id": "958ec3fe-f187-4c0d-8929-938e373b1698",
   "metadata": {},
   "outputs": [],
   "source": [
    "train_loader = train_image_dataset.get_dataloader()\n",
    "val_loader = val_image_dataset.get_dataloader()"
   ]
  },
  {
   "cell_type": "code",
   "execution_count": 11,
   "id": "2d17718f-fed2-485c-8276-fe305e2c003e",
   "metadata": {},
   "outputs": [
    {
     "data": {
      "text/plain": [
       "{'Safe': 0, 'notSafe': 1}"
      ]
     },
     "execution_count": 11,
     "metadata": {},
     "output_type": "execute_result"
    }
   ],
   "source": [
    "train_image_dataset.get_labels()"
   ]
  },
  {
   "cell_type": "markdown",
   "id": "9ff7e6d8-bbde-4b59-ac27-3659f59db269",
   "metadata": {},
   "source": [
    "# Autoencoder Model Training"
   ]
  },
  {
   "cell_type": "code",
   "execution_count": 19,
   "id": "680d6ad5-3cc2-4387-bbdf-eef443ec6cab",
   "metadata": {},
   "outputs": [
    {
     "data": {
      "text/plain": [
       "ConvAutoencoder(\n",
       "  (encoder): Sequential(\n",
       "    (0): Conv2d(3, 16, kernel_size=(3, 3), stride=(2, 2), padding=(1, 1))\n",
       "    (1): ReLU()\n",
       "    (2): Conv2d(16, 32, kernel_size=(3, 3), stride=(2, 2), padding=(1, 1))\n",
       "    (3): ReLU()\n",
       "    (4): Conv2d(32, 64, kernel_size=(3, 3), stride=(2, 2), padding=(1, 1))\n",
       "    (5): ReLU()\n",
       "  )\n",
       "  (decoder): Sequential(\n",
       "    (0): ConvTranspose2d(64, 32, kernel_size=(3, 3), stride=(2, 2), padding=(1, 1), output_padding=(1, 1))\n",
       "    (1): ReLU()\n",
       "    (2): ConvTranspose2d(32, 16, kernel_size=(3, 3), stride=(2, 2), padding=(1, 1), output_padding=(1, 1))\n",
       "    (3): ReLU()\n",
       "    (4): ConvTranspose2d(16, 3, kernel_size=(3, 3), stride=(2, 2), padding=(1, 1), output_padding=(1, 1))\n",
       "    (5): Sigmoid()\n",
       "  )\n",
       ")"
      ]
     },
     "execution_count": 19,
     "metadata": {},
     "output_type": "execute_result"
    }
   ],
   "source": [
    "CAE = ConvAutoencoder()\n",
    "CAE"
   ]
  },
  {
   "cell_type": "code",
   "execution_count": 58,
   "id": "24b195bc-acd0-45a7-b141-0b3847247832",
   "metadata": {},
   "outputs": [],
   "source": [
    "def calculate_psnr(original, reconstructed):\n",
    "    mse = np.mean((original - reconstructed) ** 2)\n",
    "    if mse == 0:\n",
    "        return float('inf')\n",
    "    max_pixel = 1.0  # Assuming images are normalized between 0 and 1\n",
    "    psnr = 20 * np.log10(max_pixel / np.sqrt(mse))\n",
    "    return psnr\n",
    "\n",
    "def calculate_ssim(original, reconstructed):\n",
    "    original = (original * 255).astype(np.uint8)  # Convert to 0-255 range\n",
    "    reconstructed = (reconstructed * 255).astype(np.uint8)\n",
    "    return ssim(original, reconstructed, channel_axis=-1, data_range=255, win_size=min(original.shape[0], original.shape[1], 7))\n"
   ]
  },
  {
   "cell_type": "code",
   "execution_count": 60,
   "id": "1a487917-199e-446b-a7ab-6b2d9b3f1f52",
   "metadata": {},
   "outputs": [],
   "source": [
    "def train_autoencoder(model, train_loader, val_loader, epochs=10, learning_rate=0.001, device=None):\n",
    "    device = device or ('cuda' if torch.cuda.is_available() else 'cpu')\n",
    "    model.to(device)\n",
    "    criterion = nn.MSELoss()\n",
    "    optimizer = optim.Adam(model.parameters(), lr=learning_rate)\n",
    "    history = {\"train_loss\": [], \"val_loss\": [], \"val_psnr\": [], \"val_ssim\": []}\n",
    "    \n",
    "    for epoch in range(epochs):\n",
    "        model.train()\n",
    "        train_loss = 0.0\n",
    "        \n",
    "        for images, _ in tqdm(train_loader, desc=f\"Epoch {epoch+1}/{epochs} [Train]\"):\n",
    "            images = images.to(device)\n",
    "            optimizer.zero_grad()\n",
    "            outputs = model(images)\n",
    "            loss = criterion(outputs, images)\n",
    "            loss.backward()\n",
    "            optimizer.step()\n",
    "            train_loss += loss.item()\n",
    "        \n",
    "        train_loss /= len(train_loader)\n",
    "        history[\"train_loss\"].append(train_loss)\n",
    "        \n",
    "        # Validation phase\n",
    "        model.eval()\n",
    "        val_loss = 0.0\n",
    "        psnr_total = 0.0\n",
    "        ssim_total = 0.0\n",
    "        with torch.no_grad():\n",
    "            for images, _ in tqdm(val_loader, desc=f\"Epoch {epoch+1}/{epochs} [Val]\"):\n",
    "                images = images.to(device)\n",
    "                outputs = model(images)\n",
    "                loss = criterion(outputs, images)\n",
    "                val_loss += loss.item()\n",
    "                \n",
    "                # Convert tensors to numpy for SSIM & PSNR\n",
    "                images_np = images.cpu().numpy().transpose(0, 2, 3, 1)  # Convert to (batch, height, width, channels)\n",
    "                outputs_np = outputs.cpu().numpy().transpose(0, 2, 3, 1)\n",
    "                \n",
    "                for i in range(images_np.shape[0]):\n",
    "                    psnr_total += calculate_psnr(images_np[i], outputs_np[i])\n",
    "                    ssim_total += calculate_ssim(images_np[i], outputs_np[i])\n",
    "        \n",
    "        val_loss /= len(val_loader)\n",
    "        avg_psnr = psnr_total / len(val_loader.dataset)\n",
    "        avg_ssim = ssim_total / len(val_loader.dataset)\n",
    "        history[\"val_loss\"].append(val_loss)\n",
    "        history[\"val_psnr\"].append(avg_psnr)\n",
    "        history[\"val_ssim\"].append(avg_ssim)\n",
    "        \n",
    "        print(f\"Epoch {epoch+1}/{epochs}, Train Loss: {train_loss:.4f}, Val Loss: {val_loss:.4f}, PSNR: {avg_psnr:.2f}, SSIM: {avg_ssim:.4f}\")\n",
    "    \n",
    "    return history"
   ]
  }
 ],
 "metadata": {
  "kernelspec": {
   "display_name": "Python [conda env:base] *",
   "language": "python",
   "name": "conda-base-py"
  },
  "language_info": {
   "codemirror_mode": {
    "name": "ipython",
    "version": 3
   },
   "file_extension": ".py",
   "mimetype": "text/x-python",
   "name": "python",
   "nbconvert_exporter": "python",
   "pygments_lexer": "ipython3",
   "version": "3.12.7"
  }
 },
 "nbformat": 4,
 "nbformat_minor": 5
}
